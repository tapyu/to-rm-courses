{
  "cells": [
    {
      "cell_type": "markdown",
      "source": [
        "This tutorial gives and overview of how to leverage the efficient Koopman expectation method from DiffEqUncertainty to perform optimization under uncertainty. We demonstrate this by using a bouncing ball model with an uncertain model parameter. We also demonstrate its application to problems with probabilistic constraints, in particular a special class of constraints called chance constraints.\n\n## System Model\nFirst lets consider a 2D bouncing ball, where the states are the horizontal position $x$, horizontal velocity $\\dot{x}$, vertical position $y$, and vertical velocity $\\dot{y}$. This model has two system parameters, acceleration due to gravity and coefficient of restitution (models energy loss when the ball impacts the ground). We can simulate such a system using `ContinuousCallback` as"
      ],
      "metadata": {}
    },
    {
      "outputs": [],
      "cell_type": "code",
      "source": [
        "using OrdinaryDiffEq, Plots\n\nfunction ball!(du,u,p,t)\n    du[1] = u[2]\n    du[2] = 0.0\n    du[3] = u[4]\n    du[4] = -p[1]\nend\n\nground_condition(u,t,integrator) = u[3]\nground_affect!(integrator) = integrator.u[4] = -integrator.p[2] * integrator.u[4]\nground_cb = ContinuousCallback(ground_condition, ground_affect!)\n\nu0 = [0.0,2.0,50.0,0.0]\ntspan = (0.0,50.0)\np = [9.807, 0.9]\n\nprob = ODEProblem(ball!,u0,tspan,p)\nsol = solve(prob,Tsit5(),callback=ground_cb)\nplot(sol, vars=(1,3), label = nothing, xlabel=\"x\", ylabel=\"y\")"
      ],
      "metadata": {},
      "execution_count": null
    },
    {
      "cell_type": "markdown",
      "source": [
        "For this particular problem, we wish to measure the impact distance from a point $y=25$ on a wall at $x=25$. So, we introduce an additional callback that terminates the simulation on wall impact."
      ],
      "metadata": {}
    },
    {
      "outputs": [],
      "cell_type": "code",
      "source": [
        "stop_condition(u,t,integrator) = u[1] - 25.0\nstop_cb = ContinuousCallback(stop_condition, terminate!)\ncbs = CallbackSet(ground_cb, stop_cb)\n\ntspan = (0.0, 1500.0)\nprob = ODEProblem(ball!,u0,tspan,p)\nsol = solve(prob,Tsit5(),callback=cbs)"
      ],
      "metadata": {},
      "execution_count": null
    },
    {
      "cell_type": "markdown",
      "source": [
        "To help visualize this problem, we plot as follows, where the star indicates a desired impace location"
      ],
      "metadata": {}
    },
    {
      "outputs": [],
      "cell_type": "code",
      "source": [
        "rectangle(xc, yc, w, h) = Shape(xc .+ [-w,w,w,-w]./2.0, yc .+ [-h,-h,h,h]./2.0)\n\nbegin\n    plot(sol, vars=(1,3), label=nothing, lw = 3, c=:black)\n    xlabel!(\"x [m]\")\n    ylabel!(\"y [m]\")\n    plot!(rectangle(27.5, 25, 5, 50), c=:red, label = nothing)\n    scatter!([25],[25],marker=:star, ms=10, label = nothing,c=:green)\n    ylims!(0.0,50.0)\nend"
      ],
      "metadata": {},
      "execution_count": null
    },
    {
      "cell_type": "markdown",
      "source": [
        "## Considering Uncertainty\nWe now wish to introduce uncertainty in `p[2]`, the coefficient of restitution. This is defined via a continuous univiate distribution from Distributions.jl. We can then run a Monte Carlo simulation of 100,000 trajectories via the `EnsembleProblem` interface."
      ],
      "metadata": {}
    },
    {
      "outputs": [],
      "cell_type": "code",
      "source": [
        "using Distributions\n\ncor_dist = truncated(Normal(0.9, 0.02), 0.9-3*0.02, 1.0)\ntrajectories = 100000\n\nprob_func(prob,i,repeat) = remake(prob, p = [p[1], rand(cor_dist)])\nensemble_prob = EnsembleProblem(prob,prob_func=prob_func)\nensemblesol = solve(ensemble_prob,Tsit5(),EnsembleThreads(),trajectories=trajectories, callback=cbs)\n\nbegin # plot\n    plot(ensemblesol, vars = (1,3), lw=1,alpha=0.2, label=nothing, idxs = 1:350)\n    xlabel!(\"x [m]\")\n    ylabel!(\"y [m]\")\n    plot!(rectangle(27.5, 25, 5, 50), c=:red, label = nothing)\n    scatter!([25],[25],marker=:star, ms=10, label = nothing, c=:green)\n    plot!(sol, vars=(1,3), label=nothing, lw = 3, c=:black, ls=:dash)\n    xlims!(0.0,27.5)\nend"
      ],
      "metadata": {},
      "execution_count": null
    },
    {
      "cell_type": "markdown",
      "source": [
        "Here, we plot the first 350 Monte Carlo simulations along with the trajectory corrresponding to the mean of the distribution (dashed line).\n\nWe now wish to compute the expected squared impact distance from the star. This is called an \"observation\" of our system or an \"observable\" of interest.\n\nWe define this observable as"
      ],
      "metadata": {}
    },
    {
      "outputs": [],
      "cell_type": "code",
      "source": [
        "obs(sol) = abs2(sol[3,end]-25)"
      ],
      "metadata": {},
      "execution_count": null
    },
    {
      "cell_type": "markdown",
      "source": [
        "With the observable defined, we can compute the expected squared miss distance from our Monte Carlo simulation results as"
      ],
      "metadata": {}
    },
    {
      "outputs": [],
      "cell_type": "code",
      "source": [
        "mean_ensemble = mean([obs(sol) for sol in ensemblesol])"
      ],
      "metadata": {},
      "execution_count": null
    },
    {
      "cell_type": "markdown",
      "source": [
        "Alternatively, we can use the `Koopman()` algorithm in DiffEqUncertainty.jl to compute this expectation much more efficiently as"
      ],
      "metadata": {}
    },
    {
      "outputs": [],
      "cell_type": "code",
      "source": [
        "using DiffEqUncertainty\n\np_uncertain = [9.807, cor_dist]\nexpectation(obs, prob, u0, p_uncertain, Koopman(), Tsit5();\n            ireltol = 1e-5, callback=cbs)"
      ],
      "metadata": {},
      "execution_count": null
    },
    {
      "cell_type": "markdown",
      "source": [
        "## Optimization Under Uncertainty\nWe now wish to optimize the initial position ($x_0,y_0$) and horizontal velocity ($\\dot{x}_0$) of the system to minimize the expected squared miss distance from the star, where $x_0\\in\\left[-100,0\\right]$, $y_0\\in\\left[1,3\\right]$, and $\\dot{x}_0\\in\\left[10,50\\right]$. We will demonstrate this using a gradient-based optimization approach from NLopt.jl using `ForwardDiff.jl` AD through the expectation calculation.\n\nFirst, we load the required packages and define our loss function"
      ],
      "metadata": {}
    },
    {
      "outputs": [],
      "cell_type": "code",
      "source": [
        "using NLopt, DiffEqSensitivity, ForwardDiff\n\nmake_u0(θ) = [θ[1],θ[2],θ[3], 0.0]\n\nfunction 𝔼_loss(θ)   # \\bbE\n    u0 = make_u0(θ)\n    expectation(obs, prob, u0, p_uncertain, Koopman(), Tsit5();\n                 ireltol = 1e-5, callback=cbs)[1]\nend"
      ],
      "metadata": {},
      "execution_count": null
    },
    {
      "cell_type": "markdown",
      "source": [
        "NLopt requires that this loss function return the loss as above, but also do an inplace update of the gradient. So, we wrap this function to put it in the form required by NLopt."
      ],
      "metadata": {}
    },
    {
      "outputs": [],
      "cell_type": "code",
      "source": [
        "function 𝔼_loss_nlopt(x,∇)\n    length(∇) > 0 ? ForwardDiff.gradient!(∇, 𝔼_loss,x) : nothing\n    𝔼_loss(x)\nend"
      ],
      "metadata": {},
      "execution_count": null
    },
    {
      "cell_type": "markdown",
      "source": [
        "We then optimize using the [Method of Moving Asymptotes](https://nlopt.readthedocs.io/en/latest/NLopt_Algorithms/#mma-method-of-moving-asymptotes-and-ccsa) algorithm (`:LD_MMA`)"
      ],
      "metadata": {}
    },
    {
      "outputs": [],
      "cell_type": "code",
      "source": [
        "opt = Opt(:LD_MMA, 3)\nopt.lower_bounds = [-100.0,1.0, 10.0]\nopt.upper_bounds = [0.0,3.0, 50.0]\nopt.xtol_rel = 1e-3\nopt.min_objective = 𝔼_loss_nlopt\n(minf,minx,ret) = NLopt.optimize(opt, [-1.0, 2.0, 50.0])"
      ],
      "metadata": {},
      "execution_count": null
    },
    {
      "cell_type": "markdown",
      "source": [
        "Let's now visualize 350 Monte Carlo simulations"
      ],
      "metadata": {}
    },
    {
      "outputs": [],
      "cell_type": "code",
      "source": [
        "ensembleprob = EnsembleProblem(remake(prob,u0 = make_u0(minx)),prob_func=prob_func)\nensemblesol = solve(ensembleprob,Tsit5(),EnsembleThreads(), trajectories=100_000, callback=cbs)\n\nbegin\n    plot(ensemblesol, vars = (1,3), lw=1,alpha=0.1, label=nothing, idxs = 1:350)\n    plot!(solve(remake(prob, u0=make_u0(minx)),Tsit5(), callback=cbs),\n            vars=(1,3),label = nothing, c=:black, lw=3,ls=:dash)\n    xlabel!(\"x [m]\")\n    ylabel!(\"y [m]\")\n    plot!(rectangle(27.5, 25, 5, 50), c=:red, label = nothing)\n    scatter!([25],[25],marker=:star, ms=10, label = nothing,c=:green)\n    ylims!(0.0,50.0)\n    xlims!(minx[1], 27.5)\nend"
      ],
      "metadata": {},
      "execution_count": null
    },
    {
      "cell_type": "markdown",
      "source": [
        "Looks pretty good! But, how long did it take? Let's benchmark."
      ],
      "metadata": {}
    },
    {
      "outputs": [],
      "cell_type": "code",
      "source": [
        "using BenchmarkTools\n\n@btime NLopt.optimize($opt, $[-1.0, 2.0, 50.0])"
      ],
      "metadata": {},
      "execution_count": null
    },
    {
      "cell_type": "markdown",
      "source": [
        "Not bad for bound constrained optimization under uncertainty of a hybrid system!\n\n## Probabilistic Constraints\n\nWith this approach we can also consider probabilistic constraints. Let us now consider a wall at $x=20$ with height 25."
      ],
      "metadata": {}
    },
    {
      "outputs": [],
      "cell_type": "code",
      "source": [
        "constraint = [20.0, 25.0]\nbegin\n    plot(rectangle(27.5, 25, 5, 50), c=:red, label = nothing)\n    xlabel!(\"x [m]\")\n    ylabel!(\"y [m]\")\n    plot!([constraint[1], constraint[1]],[0.0,constraint[2]], lw=5, c=:black, label=nothing)\n    scatter!([25],[25],marker=:star, ms=10, label = nothing,c=:green)\n    ylims!(0.0,50.0)\n    xlims!(minx[1], 27.5)\nend"
      ],
      "metadata": {},
      "execution_count": null
    },
    {
      "cell_type": "markdown",
      "source": [
        "We now wish to minimize the same loss function as before, but introduce an inequality constraint such that the solution must have less than a 1% chance of colliding with the wall at $x=20$. This class of probabilistic constraints is called a chance constraint.\n\nTo do this, we first introduce a new callback and solve the system using the previous optimal solution"
      ],
      "metadata": {}
    },
    {
      "outputs": [],
      "cell_type": "code",
      "source": [
        "constraint_condition(u,t,integrator) = u[1] - constraint[1]\nconstraint_affect!(integrator) = integrator.u[3] < constraint[2] ? terminate!(integrator) : nothing\nconstraint_cb = ContinuousCallback(constraint_condition, constraint_affect!, save_positions=(true,false));\nconstraint_cbs = CallbackSet(ground_cb, stop_cb, constraint_cb)\n\nensemblesol = solve(ensembleprob,Tsit5(),EnsembleThreads(), trajectories=350, callback=constraint_cbs, maxstep=0.1)\n\nbegin\n    plot(ensemblesol, vars = (1,3), lw=1,alpha=0.1, label=nothing)\n    plot!(solve(remake(prob, u0=make_u0(minx)),Tsit5(), callback=constraint_cbs),\n            vars=(1,3),label = nothing, c=:black, lw=3, ls=:dash)\n\n    xlabel!(\"x [m]\")\n    ylabel!(\"y [m]\")\n    plot!(rectangle(27.5, 25, 5, 50), c=:red, label = nothing)\n    plot!([constraint[1], constraint[1]],[0.0,constraint[2]], lw=5, c=:black)\n    scatter!([25],[25],marker=:star, ms=10, label = nothing,c=:green)\n    ylims!(0.0,50.0)\n    xlims!(minx[1], 27.5)\nend"
      ],
      "metadata": {},
      "execution_count": null
    },
    {
      "cell_type": "markdown",
      "source": [
        "That doesn't look good!\n\nWe now need a second observable for the system. In order to compute a probability of impact, we use an indicator function for if a trajectory impacts the wall. In other words, this functions returns 1 if the trajectory hits the wall and 0 otherwise."
      ],
      "metadata": {}
    },
    {
      "outputs": [],
      "cell_type": "code",
      "source": [
        "constraint_obs(sol) = sol[1,end] ≈ constraint[1] ? one(sol[1,end]) : zero(sol[1,end])"
      ],
      "metadata": {},
      "execution_count": null
    },
    {
      "cell_type": "markdown",
      "source": [
        "Using the previously computed optimal initial conditions, lets compute the probability of hitting this wall"
      ],
      "metadata": {}
    },
    {
      "outputs": [],
      "cell_type": "code",
      "source": [
        "expectation(constraint_obs, prob, make_u0(minx), p_uncertain, Koopman(), Tsit5();\n            ireltol= 1e-9, iabstol = 1e-9, callback=constraint_cbs)[1]"
      ],
      "metadata": {},
      "execution_count": null
    },
    {
      "cell_type": "markdown",
      "source": [
        "We then setup the constraint function for NLopt just as before."
      ],
      "metadata": {}
    },
    {
      "outputs": [],
      "cell_type": "code",
      "source": [
        "function 𝔼_constraint(θ)\n    u0 = [θ[1],θ[2],θ[3], 0.0]\n    expectation(constraint_obs, prob, u0, p_uncertain, Koopman(), Tsit5(),\n                ireltol= 1e-9, iabstol = 1e-9,callback=constraint_cbs)[1]\nend\n\nfunction 𝔼_constraint_nlopt(x,∇)\n    length(∇) > 0 ? ForwardDiff.gradient!(∇, 𝔼_constraint,x) : nothing\n    𝔼_constraint(x) - 0.01\nend"
      ],
      "metadata": {},
      "execution_count": null
    },
    {
      "cell_type": "markdown",
      "source": [
        "Note that NLopt requires the constraint function to be of the form $g(x) \\leq 0$. Hence, why we return `𝔼_constraint(x) - 0.01` for the 1% chance constraint.\n\nThe rest of the NLopt setup looks the same as before with the exception of adding the inequality constraint"
      ],
      "metadata": {}
    },
    {
      "outputs": [],
      "cell_type": "code",
      "source": [
        "opt = Opt(:LD_MMA, 3)\nopt.lower_bounds = [-100.0, 1.0, 10.0]\nopt.upper_bounds = [0.0, 3.0, 50.0]\nopt.xtol_rel = 1e-3\nopt.min_objective = 𝔼_loss_nlopt\ninequality_constraint!(opt,𝔼_constraint_nlopt, 1e-5)\n(minf2,minx2,ret2) = NLopt.optimize(opt, [-1.0, 2.0, 50.0])"
      ],
      "metadata": {},
      "execution_count": null
    },
    {
      "cell_type": "markdown",
      "source": [
        "The probability of impacting the wall is now"
      ],
      "metadata": {}
    },
    {
      "outputs": [],
      "cell_type": "code",
      "source": [
        "λ = 𝔼_constraint(minx2)"
      ],
      "metadata": {},
      "execution_count": null
    },
    {
      "cell_type": "markdown",
      "source": [
        "We can check if this is within tolerance by"
      ],
      "metadata": {}
    },
    {
      "outputs": [],
      "cell_type": "code",
      "source": [
        "λ - 0.01 <= 1e-5"
      ],
      "metadata": {},
      "execution_count": null
    },
    {
      "cell_type": "markdown",
      "source": [
        "Again, we plot some Monte Carlo simulations from this result as follows"
      ],
      "metadata": {}
    },
    {
      "outputs": [],
      "cell_type": "code",
      "source": [
        "ensembleprob = EnsembleProblem(remake(prob,u0 = make_u0(minx2)),prob_func=prob_func)\nensemblesol = solve(ensembleprob,Tsit5(),EnsembleThreads(),\n                    trajectories=350, callback=constraint_cbs)\n\nbegin\n    plot(ensemblesol, vars = (1,3), lw=1,alpha=0.1, label=nothing)\n    plot!(solve(remake(prob, u0=make_u0(minx2)),Tsit5(), callback=constraint_cbs),\n            vars=(1,3),label = nothing, c=:black, lw=3, ls=:dash)\n    plot!([constraint[1], constraint[1]],[0.0,constraint[2]], lw=5, c=:black)\n\n    xlabel!(\"x [m]\")\n    ylabel!(\"y [m]\")\n    plot!(rectangle(27.5, 25, 5, 50), c=:red, label = nothing)\n    scatter!([25],[25],marker=:star, ms=10, label = nothing,c=:green)\n    ylims!(0.0,50.0)\n    xlims!(minx[1], 27.5)\nend"
      ],
      "metadata": {},
      "execution_count": null
    },
    {
      "outputs": [],
      "cell_type": "code",
      "source": [
        "using SciMLTutorials\nSciMLTutorials.tutorial_footer(WEAVE_ARGS[:folder],WEAVE_ARGS[:file])"
      ],
      "metadata": {},
      "execution_count": null
    }
  ],
  "nbformat_minor": 2,
  "metadata": {
    "language_info": {
      "file_extension": ".jl",
      "mimetype": "application/julia",
      "name": "julia",
      "version": "1.8.1"
    },
    "kernelspec": {
      "name": "julia-1.8",
      "display_name": "Julia 1.8.1",
      "language": "julia"
    }
  },
  "nbformat": 4
}
