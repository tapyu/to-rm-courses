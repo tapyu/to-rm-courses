{
  "cells": [
    {
      "outputs": [],
      "cell_type": "code",
      "source": [
        "using Flux, StochasticDiffEq\nusing NeuralPDE\nusing Plots\nusing CUDA"
      ],
      "metadata": {},
      "execution_count": null
    },
    {
      "cell_type": "markdown",
      "source": [
        "## Introduction on Backward Kolmogorov Equations\n\nThe backward Kolmogorov Equation deals with a terminal condtion.\nThe one dimensional backward kolmogorov equation that we are going to deal with is of the form :\n\n$$\n  \\frac{\\partial p}{\\partial t} = -\\mu(x)\\frac{\\partial p}{\\partial x} - \\frac{1}{2}{\\sigma^2}(x)\\frac{\\partial^2 p}{\\partial x^2} ,\\hspace{0.5cm} p(T , x) = \\varphi(x)\n$$\nfor all $ t \\in{ [0 , T] } $ and for all $ x \\in R^d $\n\n#### The Black Scholes Model\n\nThe Black-Scholes Model governs the price evolution of the European put or call option. In the below equation V is the price of some derivative , S is the Stock Price , r is the risk free interest\nrate and σ the volatility of the stock returns. The payoff at a time T is known to us. And this makes it a terminal PDE. In case of an European put option the PDE is:\n$$\n  \\frac{\\partial V}{\\partial t} + rS\\frac{\\partial V}{\\partial S} + \\frac{1}{2}{\\sigma^2}{S^2}\\frac{\\partial^2 V}{\\partial S^2} -rV = 0  ,\\hspace{0.5cm} V(T , S) =  max\\{\\mathcal{K} - S , 0 \\}\n$$\nfor all $ t \\in{ [0 , T] } $ and for all $ S \\in R^d $\n\nIn order to make the above equation in the form of the Backward - Kolmogorov PDE we should substitute\n\n$$\n  V(S , t) = e^{r(t-T)}p(S , t)\n$$\nand thus we get\n$$\n  e^{r(t-T)}\\frac{\\partial p}{\\partial t} + re^{r(t-T)}p(S , t)  = -\\mu(x)\\frac{\\partial p}{\\partial x}e^{r(t-T)} - \\frac{1}{2}{\\sigma^2}(x)\\frac{\\partial^2 p}{\\partial x^2}e^{r(t-T)}\n  + re^{r(t-T)}p(S , t)\n$$\nAnd the terminal condition\n$$\n  p(S , T) = max\\{ \\mathcal{K} - x , 0 \\}\n$$\nWe will train our model and the model itself will be the solution of the equation\n## Defining the problem and the solver\nWe should start defining the terminal condition for our equation:"
      ],
      "metadata": {}
    },
    {
      "outputs": [],
      "cell_type": "code",
      "source": [
        "function phi(xi)\n    y = Float64[]\n    K = 100\n    for x in eachcol(xi)\n        val = max(K - maximum(x) , 0.00)\n        y = push!(y , val)\n    end\n    y = reshape(y , 1 , size(y)[1] )\n    return y\nend"
      ],
      "metadata": {},
      "execution_count": null
    },
    {
      "cell_type": "markdown",
      "source": [
        "Now we shall define the problem :\nWe will define the σ and μ by comparing it to the orignal equation. The xspan is the span of initial stock prices."
      ],
      "metadata": {}
    },
    {
      "outputs": [],
      "cell_type": "code",
      "source": [
        "d = 1\nr = 0.04\nsigma = 0.2\nxspan = (80.00 , 115.0)\ntspan = (0.0 , 1.0)\nσ(du , u , p , t) = du .= sigma.*u\nμ(du , u , p , t) = du .= r.*u\nprob = KolmogorovPDEProblem(μ , σ , phi , xspan , tspan, d)"
      ],
      "metadata": {},
      "execution_count": null
    },
    {
      "cell_type": "markdown",
      "source": [
        "Now once we have defined our problem it is necessary to define the parameters for the solver."
      ],
      "metadata": {}
    },
    {
      "outputs": [],
      "cell_type": "code",
      "source": [
        "sdealg = EM()\nensemblealg = EnsembleThreads()\ndt = 0.01\ndx = 0.01\ntrajectories = 100000"
      ],
      "metadata": {},
      "execution_count": null
    },
    {
      "cell_type": "markdown",
      "source": [
        "Now lets define our model m and the optimiser"
      ],
      "metadata": {}
    },
    {
      "outputs": [],
      "cell_type": "code",
      "source": [
        "m = Chain(Dense(d, 64, elu),Dense(64, 128, elu),Dense(128 , 16 , elu) , Dense(16 , 1))\nuse_gpu = false\nif CUDA.functional() == true\n  m = fmap(CUDA.cu , m)\n  use_gpu = true\nend\nopt = Flux.ADAM(0.0005)"
      ],
      "metadata": {},
      "execution_count": null
    },
    {
      "cell_type": "markdown",
      "source": [
        "And then finally call the solver"
      ],
      "metadata": {}
    },
    {
      "outputs": [],
      "cell_type": "code",
      "source": [
        "@time sol = solve(prob, NeuralPDE.NNKolmogorov(m, opt, sdealg, ensemblealg), verbose = true, dt = dt,\n            dx = dx , trajectories = trajectories , abstol=1e-6, maxiters = 1000 , use_gpu = use_gpu)"
      ],
      "metadata": {},
      "execution_count": null
    },
    {
      "cell_type": "markdown",
      "source": [
        "## Analyzing the solution\nNow let us find a Monte-Carlo Solution and plot the both:"
      ],
      "metadata": {}
    },
    {
      "outputs": [],
      "cell_type": "code",
      "source": [
        "monte_carlo_sol = []\nx_out = collect(85:2.00:110.00)\nfor x in x_out\n  u₀= [x]\n  g_val(du , u , p , t) = du .= 0.2.*u\n  f_val(du , u , p , t) = du .= 0.04.*u\n  dt = 0.01\n  tspan = (0.0,1.0)\n  prob = SDEProblem(f_val,g_val,u₀,tspan)\n  output_func(sol,i) = (sol[end],false)\n  ensembleprob_val = EnsembleProblem(prob , output_func = output_func )\n  sim_val = solve(ensembleprob_val, EM(), EnsembleThreads() , dt=0.01, trajectories=100000,adaptive=false)\n  s = reduce(hcat , sim_val.u)\n  mean_phi = sum(phi(s))/length(phi(s))\n  global monte_carlo_sol = push!(monte_carlo_sol , mean_phi)\nend"
      ],
      "metadata": {},
      "execution_count": null
    },
    {
      "cell_type": "markdown",
      "source": [
        "##Plotting the Solutions\nWe should reshape the inputs and outputs to make it compatible with our model. This is the most important part. The algorithm gives a distributed function over all initial prices in the xspan."
      ],
      "metadata": {}
    },
    {
      "outputs": [],
      "cell_type": "code",
      "source": [
        "x_model = reshape(x_out, 1 , size(x_out)[1])\nif use_gpu == true\n  m = fmap(cpu , m)\nend\ny_out = m(x_model)\ny_out = reshape(y_out , 13 , 1)"
      ],
      "metadata": {},
      "execution_count": null
    },
    {
      "cell_type": "markdown",
      "source": [
        "And now finally we can plot the solutions"
      ],
      "metadata": {}
    },
    {
      "outputs": [],
      "cell_type": "code",
      "source": [
        "plot(x_out , y_out , lw = 3 ,  xaxis=\"Initial Stock Price\", yaxis=\"Payoff\" , label = \"NNKolmogorov\")\nplot!(x_out , monte_carlo_sol , lw = 3 ,  xaxis=\"Initial Stock Price\", yaxis=\"Payoff\" ,label = \"Monte Carlo Solutions\")"
      ],
      "metadata": {},
      "execution_count": null
    },
    {
      "outputs": [],
      "cell_type": "code",
      "source": [
        "using SciMLTutorials\nSciMLTutorials.tutorial_footer(WEAVE_ARGS[:folder],WEAVE_ARGS[:file])"
      ],
      "metadata": {},
      "execution_count": null
    }
  ],
  "nbformat_minor": 2,
  "metadata": {
    "language_info": {
      "file_extension": ".jl",
      "mimetype": "application/julia",
      "name": "julia",
      "version": "1.8.1"
    },
    "kernelspec": {
      "name": "julia-1.8",
      "display_name": "Julia 1.8.1",
      "language": "julia"
    }
  },
  "nbformat": 4
}
