{
  "cells": [
    {
      "cell_type": "markdown",
      "source": [
        "In this tutorial, we'll be solving the heat equation:\n\n```math\n∂_t T = α ∇²(T) + β \\sin(γ z)\n```\n\nwith boundary conditions: ``∇T(z=a) = ∇T_{bottom}, T(z=b) = T_{top}``. We'll solve these equations numerically using Finite Difference Method on cell faces. The same exercise could easily be done on cell centers.\n\n## Code loading and parameters\n\nFirst, we'll use / import some packages:"
      ],
      "metadata": {}
    },
    {
      "outputs": [],
      "cell_type": "code",
      "source": [
        "import Plots\nusing LinearAlgebra\nusing DiffEqBase\nusing OrdinaryDiffEq: SplitODEProblem, solve, IMEXEuler\nimport SciMLBase"
      ],
      "metadata": {},
      "execution_count": null
    },
    {
      "cell_type": "markdown",
      "source": [
        "Next, we'll define some global problem parameters:"
      ],
      "metadata": {}
    },
    {
      "outputs": [],
      "cell_type": "code",
      "source": [
        "a,b, n = 0, 1, 10               # zmin, zmax, number of cells\nn̂_min, n̂_max = -1, 1            # Outward facing unit vectors\nα = 100;                        # thermal diffusivity, larger means more stiff\nβ, γ = 10000, π;                # source term coefficients\nΔt = 1000;                      # timestep size\nN_t = 10;                       # number of timesteps to take\nFT = Float64;                   # float type\nΔz = FT(b-a)/FT(n)\nΔz² = Δz^2;\n∇²_op = [1/Δz², -2/Δz², 1/Δz²]; # interior Laplacian operator\n∇T_bottom = 10;                 # Temperature gradient at the top\nT_top = 1;                      # Temperature at the bottom\nS(z) = β*sin(γ*z)               # source term, (sin for easy integration)\nzf = range(a, b, length=n+1);   # coordinates on cell faces"
      ],
      "metadata": {},
      "execution_count": null
    },
    {
      "cell_type": "markdown",
      "source": [
        "## Derivation of analytic solution\nHere, we'll derive the analytic solution:\n\n```math\n\\frac{∂²T}{∂²z} = -\\frac{S(z)}{α} = -\\frac{β \\sin(γ z)}{α} \\\\\n\\frac{∂T}{∂z} = \\frac{β \\cos(γ z)}{γ α}+c_1 \\\\\nT(z) = \\frac{β \\sin(γ z)}{γ^2 α}+c_1 z+c_2, \\qquad \\text{(generic solution)}\n```\nApply bottom boundary condition:\n```math\n\\frac{∂T}{∂z}(a) = \\frac{β \\cos(γ a)}{γ α}+c_1 = ∇T_{bottom} \\\\\nc_1 = ∇T_{bottom}-\\frac{β \\cos(γ a)}{γ α}\n```\n\nApply top boundary condition:\n```math\nT(b) = \\frac{β \\sin(γ b)}{γ^2 α}+c_1 b+c_2 = T_{top} \\\\\nc_2 = T_{top}-\\left(\\frac{β \\sin(γ b)}{γ^2 α}+c_1 b\\right)\n```\n\nAnd now let's define this in a julia function:"
      ],
      "metadata": {}
    },
    {
      "outputs": [],
      "cell_type": "code",
      "source": [
        "function T_analytic(z) # Analytic steady state solution\n    c1 = ∇T_bottom-β*cos(γ*a)/(γ*α)\n    c2 = T_top-(β*sin(γ*b)/(γ^2*α)+c1*b)\n    return β*sin(γ*z)/(γ^2*α)+c1*z+c2\nend"
      ],
      "metadata": {},
      "execution_count": null
    },
    {
      "cell_type": "markdown",
      "source": [
        "## Derive the temporal discretization\n\nHere, we'll derivation the matrix form of the temporal discretization we wish to use (diffusion-implicit and explicit Euler):\n```math\n∂_t T = α ∇²T + S \\\\\n(T^{n+1}-T^n) = Δt (α  ∇²T^{n+1} + S) \\\\\n(T^{n+1} - Δt α ∇²T^{n+1}) = T^n + Δt S \\\\\n(I - Δt α ∇²) T^{n+1} = T^n + Δt S\n```\n\nNote that, since the ``∇²`` reaches to boundary points, we'll need to modify the stencils to account for boundary conditions.\n\n## Derive the finite difference stencil\n\nFor the interior domain, a central and second-order finite difference stencil is simply:\n\n```math\n∇²f = \\frac{f_{i-1} -2f_i + f_{i+1}}{Δz²}, \\qquad \\text{or} \\\\\n∇² = \\left[\\frac{1}{Δz²}, \\frac{-2}{Δz²}, \\frac{1}{Δz²}\\right] \\\\\n```\n\nAt the boundaries, we need to modify the stencil to account for Dirichlet and Neumann BCs. Using the following index denotion:\n\n - `i` first interior index\n - `b` boundary index\n - `g` ghost index\n\nthe Dirichlet boundary stencil & source:\n```math\n∂_t T = α \\frac{T[i-1]+T[b]-2 T[i]}{Δz²} + S \\\\\n∂_t T = α \\frac{T[i-1]-2 T[i]}{Δz²} + S + α \\frac{T[b]}{Δz²}\n```\n\nand Neumann boundary stencil & source:\n```math\n∇T_{bottom} n̂ = \\frac{T[g] - T[i]}{2Δz}, \\qquad    n̂ = [-1,1] ∈ [z_{min},z_{max}] \\\\\nT[i] + 2 Δz ∇T_{bottom} n̂ = T[g] \\\\\n∂_t T = α \\frac{\\frac{(T[i] + 2 Δz ∇T_{bottom} n̂) - T[b]}{Δz} - \\frac{T[b] - T[i]}{Δz}}{Δz} + S \\\\\n∂_t T = α \\frac{\\frac{T[i] - T[b]}{Δz} - \\frac{T[b] - T[i]}{Δz}}{Δz} + S + α 2 Δz \\frac{∇T_{bottom}}{Δz²} \\\\\n∂_t T = α \\frac{2 T[i] - 2 T[b]}{Δz²} + S + 2α \\frac{∇T_{bottom} n̂}{Δz}\n```\n\n## Define the discrete diffusion operator"
      ],
      "metadata": {}
    },
    {
      "outputs": [],
      "cell_type": "code",
      "source": [
        "# Initialize interior and boundary stencils:\n∇² = Tridiagonal(\n    ones(FT, n) .* ∇²_op[1],\n    ones(FT, n+1)   .* ∇²_op[2],\n    ones(FT, n) .* ∇²_op[3]\n);\n\n# Modify boundary stencil to account for BCs\n\n∇².d[1] = -2/Δz²\n∇².du[1] = +2/Δz²\n\n# Modify boundary stencil to account for BCs\n∇².du[n] = 0  # modified stencil\n∇².d[n+1] = 0 # to ensure `∂_t T = 0` at `z=zmax`\n∇².dl[n] = 0  # to ensure `∂_t T = 0` at `z=zmax`\nD = α .* ∇²"
      ],
      "metadata": {},
      "execution_count": null
    },
    {
      "cell_type": "markdown",
      "source": [
        "## Define boundary source\nHere, we'll compute the boundary source ``\\left(\\frac{α T[b]}{Δz²}\\right)``"
      ],
      "metadata": {}
    },
    {
      "outputs": [],
      "cell_type": "code",
      "source": [
        "AT_b = zeros(FT, n+1);\nAT_b[1] = α*2/Δz*∇T_bottom*n̂_min;\nAT_b[end-1] = α*T_top/Δz²;"
      ],
      "metadata": {},
      "execution_count": null
    },
    {
      "cell_type": "markdown",
      "source": [
        "## Set initial condition\nLet's just initialize the solution to `1`, and also set the top boundary condition:"
      ],
      "metadata": {}
    },
    {
      "outputs": [],
      "cell_type": "code",
      "source": [
        "T = zeros(FT, n+1);\nT .= 1;\nT[n+1] = T_top; # set top BC"
      ],
      "metadata": {},
      "execution_count": null
    },
    {
      "cell_type": "markdown",
      "source": [
        "## Define right-hand side sources\nHere, we define the right-hand side (RHS) sources:"
      ],
      "metadata": {}
    },
    {
      "outputs": [],
      "cell_type": "code",
      "source": [
        "function rhs!(dT, T, params, t)\n    n = params.n\n    i = 1:n # interior domain\n    dT[i] .= S.(zf[i]) .+ AT_b[i]\n    return dT\nend;"
      ],
      "metadata": {},
      "execution_count": null
    },
    {
      "cell_type": "markdown",
      "source": [
        "Next, we'll pacakge up parameters needed in the RHS function, define the ODE problem, and solve."
      ],
      "metadata": {}
    },
    {
      "outputs": [],
      "cell_type": "code",
      "source": [
        "params = (;n)\n\ntspan = (FT(0), N_t*FT(Δt))\n\nprob = SplitODEProblem(\n    SciMLBase.DiffEqArrayOperator(\n        D,\n    ),\n    rhs!,\n    T,\n    tspan,\n    params\n)\nalg = IMEXEuler(linsolve=LinSolveFactorize(lu!))\nprintln(\"Solving...\")\nsol = solve(\n    prob,\n    alg,\n    dt = Δt,\n    saveat = range(FT(0), N_t*FT(Δt), length=5),\n    progress = true,\n    progress_message = (dt, u, p, t) -> t,\n);"
      ],
      "metadata": {},
      "execution_count": null
    },
    {
      "cell_type": "markdown",
      "source": [
        "# Visualizing results\n\nNow, let's visualize the results of the solution and error:"
      ],
      "metadata": {}
    },
    {
      "outputs": [],
      "cell_type": "code",
      "source": [
        "T_end = sol.u[end]\n\np1 = Plots.plot(zf, T_analytic.(zf), label=\"analytic\", markershape=:circle, markersize=6)\np1 = Plots.plot!(p1, zf, T_end, label=\"numerical\", markershape=:diamond)\np1 = Plots.plot!(p1, title=\"T ∈ cell faces\")\n\np2 = Plots.plot(zf, abs.(T_end .- T_analytic.(zf)), label=\"error\", markershape=:circle, markersize=6)\np2 = Plots.plot!(p2, title=\"T ∈ cell faces\")\n\nPlots.plot(p1, p2)"
      ],
      "metadata": {},
      "execution_count": null
    }
  ],
  "nbformat_minor": 2,
  "metadata": {
    "language_info": {
      "file_extension": ".jl",
      "mimetype": "application/julia",
      "name": "julia",
      "version": "1.8.1"
    },
    "kernelspec": {
      "name": "julia-1.8",
      "display_name": "Julia 1.8.1",
      "language": "julia"
    }
  },
  "nbformat": 4
}
