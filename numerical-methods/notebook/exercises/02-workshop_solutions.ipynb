{
  "cells": [
    {
      "outputs": [],
      "cell_type": "code",
      "source": [
        "using DifferentialEquations\nusing Sundials\nusing BenchmarkTools\nusing Plots"
      ],
      "metadata": {},
      "execution_count": null
    },
    {
      "cell_type": "markdown",
      "source": [
        "# Problem 1: Investigating Sources of Randomness and Uncertainty in a Biological System\n\n## Part 1: Simulating the Oregonator ODE model"
      ],
      "metadata": {}
    },
    {
      "outputs": [],
      "cell_type": "code",
      "source": [
        "using DifferentialEquations, Plots\nfunction orego(du,u,p,t)\n  s,q,w = p\n  y1,y2,y3 = u\n  du[1] = s*(y2+y1*(1-q*y1-y2))\n  du[2] = (y3-(1+y1)*y2)/s\n  du[3] = w*(y1-y3)\nend\np = [77.27,8.375e-6,0.161]\nprob = ODEProblem(orego,[1.0,2.0,3.0],(0.0,360.0),p)\nsol = solve(prob)\nplot(sol)"
      ],
      "metadata": {},
      "execution_count": null
    },
    {
      "outputs": [],
      "cell_type": "code",
      "source": [
        "plot(sol,vars=(1,2,3))"
      ],
      "metadata": {},
      "execution_count": null
    },
    {
      "cell_type": "markdown",
      "source": [
        "## Part 2: Investigating Stiffness"
      ],
      "metadata": {}
    },
    {
      "outputs": [],
      "cell_type": "code",
      "source": [
        "using BenchmarkTools\nprob = ODEProblem(orego,[1.0,2.0,3.0],(0.0,50.0),p)\n@btime sol = solve(prob,Tsit5())"
      ],
      "metadata": {},
      "execution_count": null
    },
    {
      "outputs": [],
      "cell_type": "code",
      "source": [
        "@btime sol = solve(prob,Rodas5())"
      ],
      "metadata": {},
      "execution_count": null
    },
    {
      "cell_type": "markdown",
      "source": [
        "## (Optional) Part 3: Specifying Analytical Jacobians (I)\n\n## (Optional) Part 4: Automatic Symbolicification and Analytical Jacobian Calculations\n\n## Part 5: Adding stochasticity with stochastic differential equations"
      ],
      "metadata": {}
    },
    {
      "outputs": [],
      "cell_type": "code",
      "source": [
        "function orego(du,u,p,t)\n  s,q,w = p\n  y1,y2,y3 = u\n  du[1] = s*(y2+y1*(1-q*y1-y2))\n  du[2] = (y3-(1+y1)*y2)/s\n  du[3] = w*(y1-y3)\nend\nfunction g(du,u,p,t)\n  du[1] = 0.1u[1]\n  du[2] = 0.1u[2]\n  du[3] = 0.1u[3]\nend\np = [77.27,8.375e-6,0.161]\nprob = SDEProblem(orego,g,[1.0,2.0,3.0],(0.0,30.0),p)\nsol = solve(prob,SOSRI())\nplot(sol)"
      ],
      "metadata": {},
      "execution_count": null
    },
    {
      "outputs": [],
      "cell_type": "code",
      "source": [
        "sol = solve(prob,ImplicitRKMil()); plot(sol)"
      ],
      "metadata": {},
      "execution_count": null
    },
    {
      "outputs": [],
      "cell_type": "code",
      "source": [
        "sol = solve(prob,ImplicitRKMil()); plot(sol)"
      ],
      "metadata": {},
      "execution_count": null
    },
    {
      "cell_type": "markdown",
      "source": [
        "## Part 6: Gillespie jump models of discrete stochasticity\n\n## Part 7: Probabilistic Programming / Bayesian Parameter Estimation with DiffEqBayes.jl + Turing.jl (I)\n\nThe data was generated with:"
      ],
      "metadata": {}
    },
    {
      "outputs": [],
      "cell_type": "code",
      "source": [
        "function orego(du,u,p,t)\n  s,q,w = p\n  y1,y2,y3 = u\n  du[1] = s*(y2+y1*(1-q*y1-y2))\n  du[2] = (y3-(1+y1)*y2)/s\n  du[3] = w*(y1-y3)\nend\np = [60.0,1e-5,0.2]\nprob = ODEProblem(orego,[1.0,2.0,3.0],(0.0,30.0),p)\nsol = solve(prob,Rodas5(),abstol=1/10^14,reltol=1/10^14)"
      ],
      "metadata": {},
      "execution_count": null
    },
    {
      "cell_type": "markdown",
      "source": [
        "## (Optional) Part 8: Using DiffEqBiological's Reaction Network DSL\n\n# Problem 2: Fitting Hybrid Delay Pharmacokinetic Models with Automated Responses (B)\n\n## Part 1: Defining an ODE with Predetermined Doses"
      ],
      "metadata": {}
    },
    {
      "outputs": [],
      "cell_type": "code",
      "source": [
        "function onecompartment(du,u,p,t)\n  Ka,Ke = p\n  du[1] = -Ka*u[1]\n  du[2] =  Ka*u[1] - Ke*u[2]\nend\np = (Ka=2.268,Ke=0.07398)\nprob = ODEProblem(onecompartment,[100.0,0.0],(0.0,90.0),p)\n\ntstops = [24,48,72]\ncondition(u,t,integrator) = t ∈ tstops\naffect!(integrator) = (integrator.u[1] += 100)\ncb = DiscreteCallback(condition,affect!)\nsol = solve(prob,Tsit5(),callback=cb,tstops=tstops)\nplot(sol)"
      ],
      "metadata": {},
      "execution_count": null
    },
    {
      "cell_type": "markdown",
      "source": [
        "## Part 2: Adding Delays"
      ],
      "metadata": {}
    },
    {
      "outputs": [],
      "cell_type": "code",
      "source": [
        "function onecompartment_delay(du,u,h,p,t)\n  Ka,Ke,τ = p\n  delayed_depot = h(p,t-τ)[1]\n  du[1] = -Ka*u[1]\n  du[2] =  Ka*delayed_depot - Ke*u[2]\nend\np = (Ka=2.268,Ke=0.07398,τ=6.0)\nh(p,t) = [0.0,0.0]\nprob = DDEProblem(onecompartment_delay,[100.0,0.0],h,(0.0,90.0),p)\n\ntstops = [24,48,72]\ncondition(u,t,integrator) = t ∈ tstops\naffect!(integrator) = (integrator.u[1] += 100)\ncb = DiscreteCallback(condition,affect!)\nsol = solve(prob,MethodOfSteps(Rosenbrock23()),callback=cb,tstops=tstops)\nplot(sol)"
      ],
      "metadata": {},
      "execution_count": null
    },
    {
      "cell_type": "markdown",
      "source": [
        "## Part 3: Automatic Differentiation (AD) for Optimization (I)\n\n## Part 4: Fitting Known Quantities with DiffEqParamEstim.jl + Optim.jl\n\nThe data was generated with"
      ],
      "metadata": {}
    },
    {
      "outputs": [],
      "cell_type": "code",
      "source": [
        "p = (Ka = 0.5, Ke = 0.1, τ = 4.0)"
      ],
      "metadata": {},
      "execution_count": null
    },
    {
      "cell_type": "markdown",
      "source": [
        "## Part 5: Implementing Control-Based Logic with ContinuousCallbacks (I)\n\n## Part 6: Global Sensitivity Analysis with the Morris and Sobol Methods\n\n# Problem 3: Differential-Algebraic Equation Modeling of a Double Pendulum (B)\n\n## Part 1: Simple Introduction to DAEs: Mass-Matrix Robertson Equations"
      ],
      "metadata": {}
    },
    {
      "outputs": [],
      "cell_type": "code",
      "source": [
        "function f(du, u, p, t)\n    du[1] = -p[1]*u[1] + p[2]*u[2]*u[3]\n    du[2] = p[1]*u[1] - p[2]*u[2]*u[3] - p[3]*u[2]*u[2]\n    du[3] = u[1] + u[2] + u[3] - 1.\nend\nM = [1 0 0; 0 1 0; 0 0 0.]\np = [0.04, 10^4, 3e7]\nu0 = [1.,0.,0.]\ntspan = (0., 1e6)\nprob = ODEProblem(ODEFunction(f, mass_matrix = M), u0, tspan, p)\nsol = solve(prob, Rodas5())\nplot(sol, xscale=:log10, tspan=(1e-6, 1e5), layout=(3,1))"
      ],
      "metadata": {},
      "execution_count": null
    },
    {
      "cell_type": "markdown",
      "source": [
        "## Part 2: Solving the Implicit Robertson Equations with IDA"
      ],
      "metadata": {}
    },
    {
      "outputs": [],
      "cell_type": "code",
      "source": [
        "# Robertson Equation DAE Implicit form\nfunction h(out, du, u, p, t)\n    out[1] = -p[1]*u[1] + p[2]*u[2]*u[3] - du[1]\n    out[2] = p[1]*u[1] - p[2]*u[2]*u[3] - p[3]*u[2]*u[2] - du[2]\n    out[3] = u[1] + u[2] + u[3] - 1.\nend\np = [0.04, 10^4, 3e7]\ndu0 = [-0.04, 0.04, 0.0]\nu0 = [1.,0.,0.]\ntspan = (0., 1e6)\ndifferential_vars = [true, true, false]\nprob = DAEProblem(h, du0, u0, tspan, p, differential_vars = differential_vars)\nsol = solve(prob, IDA())\nplot(sol, xscale=:log10, tspan=(1e-6, 1e5), layout=(3,1))"
      ],
      "metadata": {},
      "execution_count": null
    },
    {
      "cell_type": "markdown",
      "source": [
        "## Part 3: Manual Index Reduction of the Single Pendulum\nConsider the equation:\n$$\nx^2 + y^2 = L\n$$\nDifferentiating once with respect to time:\n$$\n2x\\dot{x} + 2y\\dot{y} = 0\n$$\nA second time:\n$$\n\\begin{align}\n{\\dot{x}}^2 + x\\ddot{x} + {\\dot{y}}^2 + y\\ddot{y} &= 0  \\\\\nu^2 + v^2 + x(\\frac{x}{mL}T) + y(\\frac{y}{mL}T - g) &= 0  \\\\\nu^2 + v^2 + \\frac{x^2 + y^2}{mL}T - yg &= 0 \\\\\nu^2 + v^2 + \\frac{T}{m} - yg &= 0\n\\end{align}\n$$\n\nOur final set of equations is hence\n$$\n\\begin{align}\n   \\ddot{x} &= \\frac{x}{mL}T \\\\\n   \\ddot{y} &= \\frac{y}{mL}T - g \\\\\n   \\dot{x} &= u \\\\\n   \\dot{y} &= v \\\\\n   u^2 + v^2 -yg + \\frac{T}{m} &= 0\n\\end{align}\n$$\n\nWe finally obtain $T$ into the third equation.\nThis required two differentiations with respect\nto time, and so our system of equations went from\nindex 3 to index 1. Now our solver can handle the\nindex 1 system.\n\n## Part 4: Single Pendulum Solution with IDA"
      ],
      "metadata": {}
    },
    {
      "outputs": [],
      "cell_type": "code",
      "source": [
        "function f(out, da, a, p, t)\n   (L, m, g) = p\n   u, v, x, y, T = a\n   du, dv, dx, dy, dT = da\n   out[1] = x*T/(m*L) - du\n   out[2] = y*T/(m*L) - g - dv\n   out[3] = u - dx\n   out[4] = v - dy\n   out[5] = u^2 + v^2 - y*g + T/m\n   nothing\nend\n\n# Release pendulum from top right\nu0 = zeros(5)\nu0[3] = 1.0\ndu0 = zeros(5)\ndu0[2] = 9.81\n\np = [1,1,9.8]\ntspan = (0.,100.)\n\ndifferential_vars = [true, true, true, true, false]\nprob = DAEProblem(f, du0, u0, tspan, p, differential_vars = differential_vars)\nsol = solve(prob, IDA())\nplot(sol, vars=(3,4))"
      ],
      "metadata": {},
      "execution_count": null
    },
    {
      "cell_type": "markdown",
      "source": [
        "## Part 5: Solving the Double Penulum DAE System\nFor the double pendulum:\nThe equations for the second ball are the same\nas the single pendulum case. That is, the equations\nfor the second ball are:\n$$\n\\begin{align}\n   \\ddot{x_2} &= \\frac{x_2}{m_2L_2}T_2 \\\\\n   \\ddot{y_2} &= \\frac{y_2}{m_2L_2}T_2 - g \\\\\n   \\dot{x_2} &= u \\\\\n   \\dot{y_2} &= v \\\\\n   u_2^2 + v_2^2 -y_2g + \\frac{T_2}{m_2} &= 0\n\\end{align}\n$$\nFor the first ball, consider $x_1^2 + y_1^2 = L $\n$$\n\\begin{align}\nx_1^2 + x_2^2 &= L \\\\\n2x_1\\dot{x_1} + 2y_1\\dot{y_1} &= 0 \\\\\n\\dot{x_1}^2 + \\dot{y_1}^2 + x_1(\\frac{x_1}{m_1L_1}T_1 - \\frac{x_2}{m_1L_2}T_2) + y_1(\\frac{y_1}{m_1L_1}T_1 - g - \\frac{y_2}{m_1L_2}T_2) &= 0 \\\\\nu_1^2 + v_1^2 + \\frac{T_1}{m_1} - \\frac{x_1x_2 + y_1y_2}{m_1L_2}T_2 &= 0\n\\end{align}\n$$\n\nSo the final equations are:\n$$\n\\begin{align}\n   \\dot{u_2} &= x_2*T_2/(m_2*L_2)\n   \\dot{v_2} &= y_2*T_2/(m_2*L_2) - g\n   \\dot{x_2} &= u_2\n   \\dot{y_2} &= v_2\n   u_2^2 + v_2^2 -y_2*g + \\frac{T_2}{m_2} &=  0\n\n   \\dot{u_1} &= x_1*T_1/(m_1*L_1) - x_2*T_2/(m_2*L_2)\n   \\dot{v_1} &= y_1*T_1/(m_1*L_1) - g - y_2*T_2/(m_2*L_2)\n   \\dot{x_1} &= u_1\n   \\dot{y_1} &= v_1\n   u_1^2 + v_1^2 + \\frac{T_1}{m_1} +\n                \\frac{-x_1*x_2 - y_1*y_2}{m_1L_2}T_2 - y_1g &= 0\n\\end{align}\n$$"
      ],
      "metadata": {}
    },
    {
      "outputs": [],
      "cell_type": "code",
      "source": [
        "function f(out, da, a, p, t)\n   L1, m1, L2, m2, g = p\n\n   u1, v1, x1, y1, T1,\n   u2, v2, x2, y2, T2 = a\n\n   du1, dv1, dx1, dy1, dT1,\n   du2, dv2, dx2, dy2, dT2 = da\n\n   out[1]  = x2*T2/(m2*L2) - du2\n   out[2]  = y2*T2/(m2*L2) - g - dv2\n   out[3]  = u2 - dx2\n   out[4]  = v2 - dy2\n   out[5]  = u2^2 + v2^2 -y2*g + T2/m2\n\n   out[6]  = x1*T1/(m1*L1) - x2*T2/(m2*L2) - du1\n   out[7]  = y1*T1/(m1*L1) - g - y2*T2/(m2*L2) - dv1\n   out[8]  = u1 - dx1\n   out[9]  = v1 - dy1\n   out[10] = u1^2 + v1^2 + T1/m1 +\n                (-x1*x2 - y1*y2)/(m1*L2)*T2 - y1*g\n   nothing\nend\n\n# Release pendulum from top right\nu0 = zeros(10)\nu0[3] = 1.0\nu0[8] = 1.0\ndu0 = zeros(10)\ndu0[2] = 9.8\ndu0[7] = 9.8\n\np = [1,1,1,1,9.8]\ntspan = (0.,100.)\n\ndifferential_vars = [true, true, true, true, false,\n                     true, true, true, true, false]\nprob = DAEProblem(f, du0, u0, tspan, p, differential_vars = differential_vars)\nsol = solve(prob, IDA())\n\nplot(sol, vars=(3,4))\nplot(sol, vars=(8,9))"
      ],
      "metadata": {},
      "execution_count": null
    },
    {
      "cell_type": "markdown",
      "source": [
        "# Problem 4: Performance Optimizing and Parallelizing Semilinear PDE Solvers (I)\n## Part 1: Implementing the BRUSS PDE System as ODEs"
      ],
      "metadata": {}
    },
    {
      "outputs": [],
      "cell_type": "code",
      "source": [
        "using DifferentialEquations, Sundials, Plots\n\n# initial condition\nfunction init_brusselator_2d(xyd)\n    N = length(xyd)\n    u = zeros(N, N, 2)\n    for I in CartesianIndices((N, N))\n        x = xyd[I[1]]\n        y = xyd[I[2]]\n        u[I,1] = 22*(y*(1-y))^(3/2)\n        u[I,2] = 27*(x*(1-x))^(3/2)\n    end\n    u\nend\n\nN = 32\n\nxyd_brusselator = range(0,stop=1,length=N)\n\nu0 = vec(init_brusselator_2d(xyd_brusselator))\n\ntspan = (0, 22.)\n\np = (3.4, 1., 10., xyd_brusselator)\n\nbrusselator_f(x, y, t) = ifelse((((x-0.3)^2 + (y-0.6)^2) <= 0.1^2) &&\n                                (t >= 1.1), 5., 0.)\n\n\nusing LinearAlgebra, SparseArrays\ndu = ones(N-1)\nD2 = spdiagm(-1 => du, 0=>fill(-2.0, N), 1 => du)\nD2[1, N] = D2[N, 1] = 1\nD2 = 1/step(xyd_brusselator)^2*D2\ntmp = Matrix{Float64}(undef, N, N)\nfunction brusselator_2d_op(du, u, (D2, tmp, p), t)\n    A, B, α, xyd = p\n    dx = step(xyd)\n    N = length(xyd)\n    α = α/dx^2\n    du = reshape(du, N, N, 2)\n    u = reshape(u, N, N, 2)\n    @views for i in axes(u, 3)\n        ui = u[:, :, i]\n        dui = du[:, :, i]\n        mul!(tmp, D2, ui)\n        mul!(dui, ui, D2')\n        dui .+= tmp\n    end\n\n    @inbounds begin\n        for I in CartesianIndices((N, N))\n            x = xyd[I[1]]\n            y = xyd[I[2]]\n            i = I[1]\n            j = I[2]\n\n            du[i,j,1] = α*du[i,j,1] + B + u[i,j,1]^2*u[i,j,2] - (A + 1)*u[i,j,1] + brusselator_f(x, y, t)\n            du[i,j,2] = α*du[i,j,2] + A*u[i,j,1] - u[i,j,1]^2*u[i,j,2]\n        end\n    end\n    nothing\nend\n\nprob1 = ODEProblem(brusselator_2d_op, u0, tspan, (D2, tmp, p))\n\nsol1 = @time solve(prob1, TRBDF2(autodiff=false));"
      ],
      "metadata": {},
      "execution_count": null
    },
    {
      "cell_type": "markdown",
      "source": [
        "Visualizing the solution (works best in a terminal):"
      ],
      "metadata": {}
    },
    {
      "outputs": [],
      "cell_type": "code",
      "source": [
        "@gif for t in sol1.t[1]:0.1:sol1.t[end]\n    off = N^2\n    solt = sol1(t)\n    plt1 = surface(reshape(solt[1:off], N, N), zlims=(0, 5), leg=false)\n    surface!(plt1, reshape(solt[off+1:end], N, N), zlims=(0, 5), leg=false)\n    display(plt1)\nend"
      ],
      "metadata": {},
      "execution_count": null
    },
    {
      "cell_type": "markdown",
      "source": [
        "## Part 2: Optimizing the BRUSS Code"
      ],
      "metadata": {}
    },
    {
      "outputs": [],
      "cell_type": "code",
      "source": [
        "function brusselator_2d_loop(du, u, p, t)\n    A, B, α, xyd = p\n    dx = step(xyd)\n    N = length(xyd)\n    α = α/dx^2\n    limit = a -> let N=N\n        a == N+1 ? 1 :\n        a == 0 ? N :\n        a\n    end\n    II = LinearIndices((N, N, 2))\n\n    @inbounds begin\n        for I in CartesianIndices((N, N))\n            x = xyd[I[1]]\n            y = xyd[I[2]]\n            i = I[1]\n            j = I[2]\n            ip1 = limit(i+1)\n            im1 = limit(i-1)\n            jp1 = limit(j+1)\n            jm1 = limit(j-1)\n\n            ii1 = II[i,j,1]\n            ii2 = II[i,j,2]\n\n            du[II[i,j,1]] = α*(u[II[im1,j,1]] + u[II[ip1,j,1]] + u[II[i,jp1,1]] + u[II[i,jm1,1]] - 4u[ii1]) +\n            B + u[ii1]^2*u[ii2] - (A + 1)*u[ii1] + brusselator_f(x, y, t)\n\n            du[II[i,j,2]] = α*(u[II[im1,j,2]] + u[II[ip1,j,2]] + u[II[i,jp1,2]] + u[II[i,jm1,2]] - 4u[II[i,j,2]]) +\n            A*u[ii1] - u[ii1]^2*u[ii2]\n        end\n    end\n    nothing\nend\n\nprob2 = ODEProblem(brusselator_2d_loop, u0, tspan, p)\n\nsol2 = @time solve(prob2, TRBDF2())\nsol2_2 = @time solve(prob2, CVODE_BDF())"
      ],
      "metadata": {},
      "execution_count": null
    },
    {
      "cell_type": "markdown",
      "source": [
        "## Part 3: Exploiting Jacobian Sparsity with Color Differentiation"
      ],
      "metadata": {}
    },
    {
      "outputs": [],
      "cell_type": "code",
      "source": [
        "using SparseDiffTools, SparsityDetection\n\nsparsity_pattern = jacobian_sparsity(brusselator_2d_loop,similar(u0),u0,p,2.0)\njac_sp = sparse(sparsity_pattern)\njac = Float64.(jac_sp)\ncolors = matrix_colors(jac)\nprob3 = ODEProblem(ODEFunction(brusselator_2d_loop, colorvec=colors,jac_prototype=jac_sp), u0, tspan, p)\nsol3 = @time solve(prob3, TRBDF2())"
      ],
      "metadata": {},
      "execution_count": null
    },
    {
      "cell_type": "markdown",
      "source": [
        "## (Optional) Part 4: Structured Jacobians\n\n## (Optional) Part 5: Automatic Symbolicification and Analytical Jacobian\n\n## Part 6: Utilizing Preconditioned-GMRES Linear Solvers"
      ],
      "metadata": {}
    },
    {
      "outputs": [],
      "cell_type": "code",
      "source": [
        "using DiffEqOperators\nusing Sundials\nusing AlgebraicMultigrid: ruge_stuben, aspreconditioner, smoothed_aggregation\nprob6 = ODEProblem(ODEFunction(brusselator_2d_loop, jac_prototype=JacVecOperator{Float64}(brusselator_2d_loop, u0)), u0, tspan, p)\nII = Matrix{Float64}(I, N, N)\nOp = kron(Matrix{Float64}(I, 2, 2), kron(D2, II) + kron(II, D2))\nWapprox = -I+Op\n#ml = ruge_stuben(Wapprox)\nml = smoothed_aggregation(Wapprox)\nprecond = aspreconditioner(ml)\nsol_trbdf2 = @time solve(prob6, TRBDF2(linsolve=LinSolveGMRES())); # no preconditioner\nsol_trbdf2 = @time solve(prob6, TRBDF2(linsolve=LinSolveGMRES(Pl=lu(Wapprox)))); # sparse LU\nsol_trbdf2 = @time solve(prob6, TRBDF2(linsolve=LinSolveGMRES(Pl=precond))); # AMG\nsol_cvodebdf = @time solve(prob2, CVODE_BDF(linear_solver=:GMRES));"
      ],
      "metadata": {},
      "execution_count": null
    },
    {
      "cell_type": "markdown",
      "source": [
        "## Part 7: Exploring IMEX and Exponential Integrator Techniques (E)"
      ],
      "metadata": {}
    },
    {
      "outputs": [],
      "cell_type": "code",
      "source": [
        "function laplacian2d(du, u, p, t)\n    A, B, α, xyd = p\n    dx = step(xyd)\n    N = length(xyd)\n    du = reshape(du, N, N, 2)\n    u = reshape(u, N, N, 2)\n    @inbounds begin\n        α = α/dx^2\n        limit = a -> let N=N\n            a == N+1 ? 1 :\n            a == 0 ? N :\n            a\n        end\n        for I in CartesianIndices((N, N))\n            x = xyd[I[1]]\n            y = xyd[I[2]]\n            i = I[1]\n            j = I[2]\n            ip1 = limit(i+1)\n            im1 = limit(i-1)\n            jp1 = limit(j+1)\n            jm1 = limit(j-1)\n            du[i,j,1] = α*(u[im1,j,1] + u[ip1,j,1] + u[i,jp1,1] + u[i,jm1,1] - 4u[i,j,1])\n            du[i,j,2] = α*(u[im1,j,2] + u[ip1,j,2] + u[i,jp1,2] + u[i,jm1,2] - 4u[i,j,2])\n        end\n    end\n    nothing\nend\nfunction brusselator_reaction(du, u, p, t)\n    A, B, α, xyd = p\n    dx = step(xyd)\n    N = length(xyd)\n    du = reshape(du, N, N, 2)\n    u = reshape(u, N, N, 2)\n    @inbounds begin\n        for I in CartesianIndices((N, N))\n            x = xyd[I[1]]\n            y = xyd[I[2]]\n            i = I[1]\n            j = I[2]\n            du[i,j,1] = B + u[i,j,1]^2*u[i,j,2] - (A + 1)*u[i,j,1] + brusselator_f(x, y, t)\n            du[i,j,2] = A*u[i,j,1] - u[i,j,1]^2*u[i,j,2]\n        end\n    end\n    nothing\nend\nprob7 = SplitODEProblem(laplacian2d, brusselator_reaction, u0, tspan, p)\nsol7 = @time solve(prob7, KenCarp4())\nM = MatrixFreeOperator((du,u,p)->laplacian2d(du, u, p, 0), (p,), size=(2*N^2, 2*N^2), opnorm=1000)\nprob7_2 = SplitODEProblem(M, brusselator_reaction, u0, tspan, p)\nsol7_2 = @time solve(prob7_2, ETDRK4(krylov=true), dt=1)\nprob7_3 = SplitODEProblem(DiffEqArrayOperator(Op), brusselator_reaction, u0, tspan, p)\nsol7_3 = solve(prob7_3, KenCarp4());"
      ],
      "metadata": {},
      "execution_count": null
    },
    {
      "cell_type": "markdown",
      "source": [
        "## Part 8: Work-Precision Diagrams for Benchmarking Solver Choices"
      ],
      "metadata": {}
    },
    {
      "outputs": [],
      "cell_type": "code",
      "source": [
        "using DiffEqDevTools\nabstols = 0.1 .^ (5:8)\nreltols = 0.1 .^ (1:4)\nsol = solve(prob3,CVODE_BDF(linear_solver=:GMRES),abstol=1/10^7,reltol=1/10^10)\ntest_sol = TestSolution(sol)\nprobs = [prob2, prob3, prob6]\nsetups = [Dict(:alg=>CVODE_BDF(),:prob_choice => 1),\n          Dict(:alg=>CVODE_BDF(linear_solver=:GMRES), :prob_choice => 1),\n          Dict(:alg=>TRBDF2(), :prob_choice => 1),\n          Dict(:alg=>TRBDF2(linsolve=LinSolveGMRES(Pl=precond)), :prob_choice => 3),\n          Dict(:alg=>TRBDF2(), :prob_choice => 2)\n         ]\nlabels = [\"CVODE_BDF (dense)\" \"CVODE_BDF (GMRES)\" \"TRBDF2 (dense)\" \"TRBDF2 (sparse)\" \"TRBDF2 (GMRES)\"]\nwp = WorkPrecisionSet(probs,abstols,reltols,setups;appxsol=[test_sol,test_sol,test_sol],save_everystep=false,numruns=3,\n  names=labels, print_names=true, seconds=0.5)\nplot(wp)"
      ],
      "metadata": {},
      "execution_count": null
    },
    {
      "cell_type": "markdown",
      "source": [
        "## Part 9: GPU-Parallelism for PDEs (E)\n\n## Part 10: Adjoint Sensitivity Analysis for Gradients of PDEs\n\n# Problem 5: Global Parameter Sensitivity and Optimality with GPU and Distributed Ensembles (B)\n\n## Part 1: Implementing the Henon-Heiles System (B)"
      ],
      "metadata": {}
    },
    {
      "outputs": [],
      "cell_type": "code",
      "source": [
        "function henon(dz,z,p,t)\n  p₁, p₂, q₁, q₂ = z[1], z[2], z[3], z[4]\n  dp₁ = -q₁*(1 + 2q₂)\n  dp₂ = -q₂-(q₁^2 - q₂^2)\n  dq₁ = p₁\n  dq₂ = p₂\n\n  dz .= [dp₁, dp₂, dq₁, dq₂]\n  return nothing\nend\n\nu₀ = [0.1, 0.0, 0.0, 0.5]\nprob = ODEProblem(henon, u₀, (0., 1000.))\nsol = solve(prob, Vern9(), abstol=1e-14, reltol=1e-14)\n\nplot(sol, vars=[(3,4,1)], tspan=(0,100))"
      ],
      "metadata": {},
      "execution_count": null
    },
    {
      "cell_type": "markdown",
      "source": [
        "## (Optional) Part 2: Alternative Dynamical Implmentations of Henon-Heiles (B)"
      ],
      "metadata": {}
    },
    {
      "outputs": [],
      "cell_type": "code",
      "source": [
        "function henon(ddz,dz,z,p,t)\n  p₁, p₂ = dz[1], dz[2]\n  q₁, q₂ = z[1], z[2]\n  ddq₁ = -q₁*(1 + 2q₂)\n  ddq₂ = -q₂-(q₁^2 - q₂^2)\n\n  ddz .= [ddq₁, ddq₂]\nend\n\np₀ = u₀[1:2]\nq₀ = u₀[3:4]\nprob2 = SecondOrderODEProblem(henon, p₀, q₀, (0., 1000.))\nsol = solve(prob2, DPRKN6(), abstol=1e-10, reltol=1e-10)\n\nplot(sol, vars=[(3,4)], tspan=(0,100))\n\nH(p, q, params) = 1/2 * (p[1]^2 + p[2]^2) + 1/2 * (q[1]^2 + q[2]^2 + 2q[1]^2 * q[2] - 2/3*q[2]^3)\n\nprob3 = HamiltonianProblem(H, p₀, q₀, (0., 1000.))\nsol = solve(prob3, DPRKN6(), abstol=1e-10, reltol=1e-10)\n\nplot(sol, vars=[(3,4)], tspan=(0,100))"
      ],
      "metadata": {},
      "execution_count": null
    },
    {
      "cell_type": "markdown",
      "source": [
        "## Part 3: Parallelized Ensemble Solving\n\nIn order to solve with an ensamble we need some initial conditions."
      ],
      "metadata": {}
    },
    {
      "outputs": [],
      "cell_type": "code",
      "source": [
        "function generate_ics(E,n)\n  # The hardcoded values bellow can be estimated by looking at the\n  # figures in the Henon-Heiles 1964 article\n  qrange = range(-0.4, stop = 1.0, length = n)\n  prange = range(-0.5, stop = 0.5, length = n)\n  z0 = Vector{Vector{typeof(E)}}()\n  for q in qrange\n    V = H([0,0],[0,q],nothing)\n    V ≥ E && continue\n    for p in prange\n      T = 1/2*p^2\n      T + V ≥ E && continue\n      z = [√(2(E-V-T)), p, 0, q]\n      push!(z0, z)\n    end\n  end\n  return z0\nend\n\nz0 = generate_ics(0.125, 10)\n\nfunction prob_func(prob,i,repeat)\n  @. prob.u0 = z0[i]\n  prob\nend\n\nensprob = EnsembleProblem(prob, prob_func=prob_func)\nsim = solve(ensprob, Vern9(), EnsembleThreads(), trajectories=length(z0))\n\nplot(sim, vars=(3,4), tspan=(0,10))"
      ],
      "metadata": {},
      "execution_count": null
    },
    {
      "cell_type": "markdown",
      "source": [
        "## Part 4: Parallelized GPU Ensemble Solving\n\nIn order to use GPU parallelization we must make all inputs\n(initial conditions, tspan, etc.) `Float32` and the function\ndefinition should be in the in-place form, avoid bound checking and\nreturn `nothing`."
      ],
      "metadata": {}
    },
    {
      "outputs": [],
      "cell_type": "code",
      "source": [
        "using DiffEqGPU\n\nfunction henon_gpu(dz,z,p,t)\n  @inbounds begin\n    dz[1] = -z[3]*(1 + 2z[4])\n    dz[2] = -z[4]-(z[3]^2 - z[4]^2)\n    dz[3] = z[1]\n    dz[4] = z[2]\n  end\n  return nothing\nend\n\nz0 = generate_ics(0.125f0, 50)\nprob_gpu = ODEProblem(henon_gpu, Float32.(u₀), (0.f0, 1000.f0))\nensprob = EnsembleProblem(prob_gpu, prob_func=prob_func)\nsim = solve(ensprob, Tsit5(), EnsembleGPUArray(), trajectories=length(z0))"
      ],
      "metadata": {},
      "execution_count": null
    },
    {
      "cell_type": "markdown",
      "source": [
        "# Problem 6: Training Neural Stochastic Differential Equations with GPU acceleration (I)\n\n## Part 1: Constructing and Training a Basic Neural ODE\n\n## Part 2: GPU-accelerating the Neural ODE Process\n\n## Part 3: Defining and Training a Mixed Neural ODE\n\n## Part 4: Constructing a Basic Neural SDE\n\n## Part 5: Optimizing the training behavior with minibatching (E)\n\n# Information on the Build"
      ],
      "metadata": {}
    },
    {
      "outputs": [],
      "cell_type": "code",
      "source": [
        "using SciMLTutorials\nSciMLTutorials.tutorial_footer(WEAVE_ARGS[:folder],WEAVE_ARGS[:file])"
      ],
      "metadata": {},
      "execution_count": null
    }
  ],
  "nbformat_minor": 2,
  "metadata": {
    "language_info": {
      "file_extension": ".jl",
      "mimetype": "application/julia",
      "name": "julia",
      "version": "1.8.1"
    },
    "kernelspec": {
      "name": "julia-1.8",
      "display_name": "Julia 1.8.1",
      "language": "julia"
    }
  },
  "nbformat": 4
}
