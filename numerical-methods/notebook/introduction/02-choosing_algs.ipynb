{
  "cells": [
    {
      "cell_type": "markdown",
      "source": [
        "While the default algorithms, along with `alg_hints = [:stiff]`, will suffice in most cases, there are times when you may need to exert more control. The purpose of this part of the tutorial is to introduce you to some of the most widely used algorithm choices and when they should be used. The corresponding page of the documentation is the [ODE Solvers](https://docs.sciml.ai/dev/solvers/ode_solve/) page which goes into more depth.\n\n## Diagnosing Stiffness\n\nOne of the key things to know for algorithm choices is whether your problem is stiff. Let's take for example the driven Van Der Pol equation:"
      ],
      "metadata": {}
    },
    {
      "outputs": [],
      "cell_type": "code",
      "source": [
        "using DifferentialEquations, ParameterizedFunctions\nvan! = @ode_def VanDerPol begin\n  dy = μ*((1-x^2)*y - x)\n  dx = 1*y\nend μ\n\nprob = ODEProblem(van!,[0.0,2.0],(0.0,6.3),1e6)"
      ],
      "metadata": {},
      "execution_count": null
    },
    {
      "cell_type": "markdown",
      "source": [
        "One indicating factor that should alert you to the fact that this model may be stiff is the fact that the parameter is `1e6`: large parameters generally mean stiff models. If we try to solve this with the default method:"
      ],
      "metadata": {}
    },
    {
      "outputs": [],
      "cell_type": "code",
      "source": [
        "sol = solve(prob,Tsit5())"
      ],
      "metadata": {},
      "execution_count": null
    },
    {
      "cell_type": "markdown",
      "source": [
        "Here it shows that maximum iterations were reached. Another thing that can happen is that the solution can return that the solver was unstable (exploded to infinity) or that `dt` became too small. If these happen, the first thing to do is to check that your model is correct. It could very well be that you made an error that causes the model to be unstable!\n\nIf the model is the problem, then stiffness could be the reason. We can thus hint to the solver to use an appropriate method:"
      ],
      "metadata": {}
    },
    {
      "outputs": [],
      "cell_type": "code",
      "source": [
        "sol = solve(prob,alg_hints = [:stiff])"
      ],
      "metadata": {},
      "execution_count": null
    },
    {
      "cell_type": "markdown",
      "source": [
        "Or we can use the default algorithm. By default, DifferentialEquations.jl uses algorithms like `AutoTsit5(Rodas5())` which automatically detect stiffness and switch to an appropriate method once stiffness is known."
      ],
      "metadata": {}
    },
    {
      "outputs": [],
      "cell_type": "code",
      "source": [
        "sol = solve(prob)"
      ],
      "metadata": {},
      "execution_count": null
    },
    {
      "cell_type": "markdown",
      "source": [
        "Another way to understand stiffness is to look at the solution."
      ],
      "metadata": {}
    },
    {
      "outputs": [],
      "cell_type": "code",
      "source": [
        "using Plots; gr()\nsol = solve(prob,alg_hints = [:stiff],reltol=1e-6)\nplot(sol,denseplot=false)"
      ],
      "metadata": {},
      "execution_count": null
    },
    {
      "cell_type": "markdown",
      "source": [
        "Let's zoom in on the y-axis to see what's going on:"
      ],
      "metadata": {}
    },
    {
      "outputs": [],
      "cell_type": "code",
      "source": [
        "plot(sol,ylims = (-10.0,10.0))"
      ],
      "metadata": {},
      "execution_count": null
    },
    {
      "cell_type": "markdown",
      "source": [
        "Notice how there are some extreme vertical shifts that occur. These vertical shifts are places where the derivative term is very large, and this is indicative of stiffness. This is an extreme example to highlight the behavior, but this general idea can be carried over to your problem. When in doubt, simply try timing using both a stiff solver and a non-stiff solver and see which is more efficient.\n\nTo try this out, let's use BenchmarkTools, a package that let's us relatively reliably time code blocks."
      ],
      "metadata": {}
    },
    {
      "outputs": [],
      "cell_type": "code",
      "source": [
        "function lorenz!(du,u,p,t)\n    σ,ρ,β = p\n    du[1] = σ*(u[2]-u[1])\n    du[2] = u[1]*(ρ-u[3]) - u[2]\n    du[3] = u[1]*u[2] - β*u[3]\nend\nu0 = [1.0,0.0,0.0]\np = (10,28,8/3)\ntspan = (0.0,100.0)\nprob = ODEProblem(lorenz!,u0,tspan,p)"
      ],
      "metadata": {},
      "execution_count": null
    },
    {
      "cell_type": "markdown",
      "source": [
        "And now, let's use the `@btime` macro from benchmark tools to compare the use of non-stiff and stiff solvers on this problem."
      ],
      "metadata": {}
    },
    {
      "outputs": [],
      "cell_type": "code",
      "source": [
        "using BenchmarkTools\n@btime solve(prob);"
      ],
      "metadata": {},
      "execution_count": null
    },
    {
      "outputs": [],
      "cell_type": "code",
      "source": [
        "@btime solve(prob,alg_hints = [:stiff]);"
      ],
      "metadata": {},
      "execution_count": null
    },
    {
      "cell_type": "markdown",
      "source": [
        "In this particular case, we can see that non-stiff solvers get us to the solution much more quickly.\n\n## The Recommended Methods\n\nWhen picking a method, the general rules are as follows:\n\n- Higher order is more efficient at lower tolerances, lower order is more efficient at higher tolerances\n- Adaptivity is essential in most real-world scenarios\n- Runge-Kutta methods do well with non-stiff equations, Rosenbrock methods do well with small stiff equations, BDF methods do well with large stiff equations\n\nWhile there are always exceptions to the rule, those are good guiding principles. Based on those, a simple way to choose methods is:\n\n- The default is `Tsit5()`, a non-stiff Runge-Kutta method of Order 5\n- If you use low tolerances (`1e-8`), try `Vern7()` or `Vern9()`\n- If you use high tolerances, try `BS3()`\n- If the problem is stiff, try `Rosenbrock23()`, `Rodas5()`, or `CVODE_BDF()`\n- If you don't know, use `AutoTsit5(Rosenbrock23())` or `AutoVern9(Rodas5())`.\n\n(This is a simplified version of the default algorithm chooser)\n\n## Comparison to other Software\n\nIf you are familiar with MATLAB, SciPy, or R's DESolve, here's a quick translation start to have transfer your knowledge over.\n\n- `ode23` -> `BS3()`\n- `ode45`/`dopri5` -> `DP5()`, though in most cases `Tsit5()` is more efficient\n- `ode23s` -> `Rosenbrock23()`, though in most cases `Rodas4()` is more efficient\n- `ode113` -> `VCABM()`, though in many cases `Vern7()` is more efficient\n- `dop853` -> `DP8()`, though in most cases `Vern7()` is more efficient\n- `ode15s`/`vode` -> `QNDF()`, though in many cases `CVODE_BDF()`, `Rodas4()`\n  or `radau()` are more efficient\n- `ode23t` -> `Trapezoid()` for efficiency and `GenericTrapezoid()` for robustness\n- `ode23tb` -> `TRBDF2`\n- `lsoda` -> `lsoda()` (requires `]add LSODA; using LSODA`)\n- `ode15i` -> `IDA()`, though in many cases `Rodas4()` can handle the DAE and is\n  significantly more efficient"
      ],
      "metadata": {}
    },
    {
      "outputs": [],
      "cell_type": "code",
      "source": [
        "using SciMLTutorials\nSciMLTutorials.tutorial_footer(WEAVE_ARGS[:folder],WEAVE_ARGS[:file])"
      ],
      "metadata": {},
      "execution_count": null
    }
  ],
  "nbformat_minor": 2,
  "metadata": {
    "language_info": {
      "file_extension": ".jl",
      "mimetype": "application/julia",
      "name": "julia",
      "version": "1.8.1"
    },
    "kernelspec": {
      "name": "julia-1.8",
      "display_name": "Julia 1.8.1",
      "language": "julia"
    }
  },
  "nbformat": 4
}
