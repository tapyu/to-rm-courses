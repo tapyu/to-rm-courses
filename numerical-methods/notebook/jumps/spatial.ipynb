{
  "cells": [
    {
      "cell_type": "markdown",
      "source": [
        "This tutorial shows how to use spatial solvers added to [`DiffEqJump`](https://github.com/SciML/DiffEqJump.jl) in summer 2021. See [the documentation](https://diffeq.sciml.ai/latest/types/jump_types/) for a tutorial on getting started with `DiffEqJump`.\n\n## Installing `DiffEqJump`\n\nOnce in REPL, do `] add DiffEqJump`. After the installation finishes, you will be able to use all the functionality described below.\n\n## Reversible binding model on a grid\n\nA 5 by 5 Cartesian grid:\n\n| <!-- -->  | <!-- -->  | <!-- -->  |  <!-- --> | <!-- -->  |\n|---|---|---|---|---|\n| . | . | . | . | B |\n| . | . | . | . | . |\n| . | . | . | . | . |\n| . | . | . | . | . |\n| A | . | . | . | . |\n\nSuppose we have a reversible binding system described by $$A+B \\to C$$ at rate $$k_1$$ and $$C \\to A+B$$ at rate $$k_2$$. Further suppose that all $$A$$ molecules start in the lower left corner, while all $$B$$ molecules start in the upper right corner of a 5 by 5 grid. There are no $$C$$ molecules at the start.\n\nWe first create the grid:"
      ],
      "metadata": {}
    },
    {
      "outputs": [],
      "cell_type": "code",
      "source": [
        "using DiffEqJump\ndims = (5,5)\nnum_nodes = prod(dims) # number of sites\ngrid = CartesianGrid(dims) # or use LightGraphs.grid(dims)"
      ],
      "metadata": {},
      "execution_count": null
    },
    {
      "cell_type": "markdown",
      "source": [
        "Now we set the initial state of the simulation. It has to be a matrix with entry $$(s,i)$$ being the number of species $$s$$ at site $$i$$ (with the standard column-major ordering of the grid)."
      ],
      "metadata": {}
    },
    {
      "outputs": [],
      "cell_type": "code",
      "source": [
        "num_species = 3\nstarting_state = zeros(Int, num_species, num_nodes)\nstarting_state[1,1] = 25\nstarting_state[2,end] = 25\nstarting_state"
      ],
      "metadata": {},
      "execution_count": null
    },
    {
      "cell_type": "markdown",
      "source": [
        "We now set the time-span of the simulation and the reaction rates. These can be chosen arbitrarily."
      ],
      "metadata": {}
    },
    {
      "outputs": [],
      "cell_type": "code",
      "source": [
        "tspan = (0.0, 3.0)\nrates = [6.0, 0.05] # k_1 = rates[1], k_2 = rates[2]"
      ],
      "metadata": {},
      "execution_count": null
    },
    {
      "cell_type": "markdown",
      "source": [
        "Now we can create the `DiscreteProblem`:"
      ],
      "metadata": {}
    },
    {
      "outputs": [],
      "cell_type": "code",
      "source": [
        "prob = DiscreteProblem(starting_state, tspan, rates)"
      ],
      "metadata": {},
      "execution_count": null
    },
    {
      "cell_type": "markdown",
      "source": [
        "Since both reactions are [massaction reactions](https://en.wikipedia.org/wiki/Law_of_mass_action), we put them together in a `MassActionJump`. In order to do that we create two stoichiometry vectors. The net stoichiometry vector describes which molecules change in number and how much after each reaction; for example, `[1 => -1]` is the first molecule disappearing. The reaction stoichiometry vector describes what the reactants of each reaction are; for example, `[1 => 1, 2 => 1]` would mean that the reactants are one molecule of type 1 and one molecule of type 2."
      ],
      "metadata": {}
    },
    {
      "outputs": [],
      "cell_type": "code",
      "source": [
        "netstoch = [[1 => -1, 2 => -1, 3 => 1],[1 => 1, 2 => 1, 3 => -1]]\nreactstoch = [[1 => 1, 2 => 1],[3 => 1]]\nmajumps = MassActionJump(rates, reactstoch, netstoch)"
      ],
      "metadata": {},
      "execution_count": null
    },
    {
      "cell_type": "markdown",
      "source": [
        "The last thing to set up is the hopping constants -- the probability per time of an individual molecule of each species hopping from one site to another site. In practice this parameter, as well as reaction rates, are obtained empirically. Suppose that molecule $$C$$ cannot diffuse, while molecules $$A$$ and $$B$$ diffuse at probability per time 1 (i.e. the time of the diffusive hop is exponentially distributed with mean 1). Entry $$(s,i)$$ of `hopping_constants` is the hopping rate of species $$s$$ at site $$i$$ to any of its neighboring sites (diagonal hops are not allowed)."
      ],
      "metadata": {}
    },
    {
      "outputs": [],
      "cell_type": "code",
      "source": [
        "hopping_constants = ones(num_species, num_nodes)\nhopping_constants[3, :] .= 0.0\nhopping_constants"
      ],
      "metadata": {},
      "execution_count": null
    },
    {
      "cell_type": "markdown",
      "source": [
        "We are now ready to set up the `JumpProblem` with the Next Subvolume Method."
      ],
      "metadata": {}
    },
    {
      "outputs": [],
      "cell_type": "code",
      "source": [
        "alg = NSM()\njump_prob = JumpProblem(prob, alg, majumps, hopping_constants=hopping_constants, spatial_system = grid, save_positions=(true, false))"
      ],
      "metadata": {},
      "execution_count": null
    },
    {
      "cell_type": "markdown",
      "source": [
        "The `save_positions` keyword tells the solver to save the positions just before the jumps. To solve the jump problem do"
      ],
      "metadata": {}
    },
    {
      "outputs": [],
      "cell_type": "code",
      "source": [
        "solution = solve(jump_prob, SSAStepper())"
      ],
      "metadata": {},
      "execution_count": null
    },
    {
      "cell_type": "markdown",
      "source": [
        "## Animation\n\nVisualizing solutions of spatial jump problems is best done with animations."
      ],
      "metadata": {}
    },
    {
      "outputs": [],
      "cell_type": "code",
      "source": [
        "using Plots\nis_static(spec) = (spec == 3) # true if spec does not hop\n\"get frame k\"\nfunction get_frame(k, sol, linear_size, labels, title)\n    num_species = length(labels)\n    h = 1/linear_size\n    t = sol.t[k]\n    state = sol.u[k]\n    xlim=(0,1+3h/2); ylim=(0,1+3h/2);\n    plt = plot(xlim=xlim, ylim=ylim, title = \"$title, $(round(t, sigdigits=3)) seconds\")\n\n    species_seriess_x = [[] for i in 1:num_species]\n    species_seriess_y = [[] for i in 1:num_species]\n    CI = CartesianIndices((linear_size, linear_size))\n    for ci in CartesianIndices(state)\n        species, site = Tuple(ci)\n        x,y = Tuple(CI[site])\n        num_molecules = state[ci]\n        sizehint!(species_seriess_x[species], num_molecules)\n        sizehint!(species_seriess_y[species], num_molecules)\n        if !is_static(species)\n            randsx = rand(num_molecules)\n            randsy = rand(num_molecules)\n        else\n            randsx = zeros(num_molecules)\n            randsy = zeros(num_molecules)\n        end\n        for k in 1:num_molecules\n            push!(species_seriess_x[species], x*h - h/4 + 0.5h*randsx[k])\n            push!(species_seriess_y[species], y*h - h/4 + 0.5h*randsy[k])\n        end\n    end\n    for species in 1:num_species\n        scatter!(plt, species_seriess_x[species], species_seriess_y[species], label = labels[species], marker = 6)\n    end\n    xticks!(plt, range(xlim...,length = linear_size+1))\n    yticks!(plt, range(ylim...,length = linear_size+1))\n    xgrid!(plt, 1, 0.7)\n    ygrid!(plt, 1, 0.7)\n    return plt\nend\n\n\"make an animation of solution sol in 2 dimensions\"\nfunction animate_2d(sol, linear_size; species_labels, title, verbose = true)\n    num_frames = length(sol.t)\n    anim = @animate for k=1:num_frames\n        verbose && println(\"Making frame $k\")\n        get_frame(k, sol, linear_size, species_labels, title)\n    end\n    anim\nend\n# animate\nanim=animate_2d(solution, 5, species_labels = [\"A\", \"B\", \"C\"], title = \"A + B <--> C\", verbose = false)\nfps = 5\ngif(anim, fps = fps)"
      ],
      "metadata": {},
      "execution_count": null
    },
    {
      "cell_type": "markdown",
      "source": [
        "## Making changes to the model\n\nNow suppose we want to make some changes to the reversible binding model above. There are three \"dimensions\" that can be changed: the topology of the system, the structure of hopping rates and the solver. The supported topologies are `CartesianGrid` -- used above, and any `AbstractGraph` from `LightGraphs`. The supported forms of hopping rates are $$D_{s,i}, D_{s,i,j}, D_s * L_{i,j}$$, and $$D_{s,i} * L_{i,j}$$, where $$s$$ denotes the species, $$i$$ -- the source site, and $$j$$ -- the destination. The supported solvers are `NSM`, `DirectCRDirect` and any of the standard non-spatial solvers.\n\n### Topology\n\nIf our mesh is a grid (1D, 2D and 3D are supported), we can create the mesh as follows."
      ],
      "metadata": {}
    },
    {
      "outputs": [],
      "cell_type": "code",
      "source": [
        "dims = (2,3,4) # can pass in a 1-Tuple, a 2-Tuple or a 3-Tuple\nnum_nodes = prod(dims)\ngrid = CartesianGrid(dims)"
      ],
      "metadata": {},
      "execution_count": null
    },
    {
      "cell_type": "markdown",
      "source": [
        "The interface is the same as for [`LightGraphs.grid`](https://juliagraphs.org/LightGraphs.jl/latest/generators/#LightGraphs.SimpleGraphs.grid-Union{Tuple{AbstractVector{T}},%20Tuple{T}}%20where%20T%3C:Integer). If we want to use an unstructured mesh, we can simply use any `AbstractGraph` from `LightGraphs` as follows:"
      ],
      "metadata": {}
    },
    {
      "outputs": [],
      "cell_type": "code",
      "source": [
        "using LightGraphs\ngraph = cycle_digraph(5) # directed cyclic graph on 5 nodes"
      ],
      "metadata": {},
      "execution_count": null
    },
    {
      "cell_type": "markdown",
      "source": [
        "Now either `graph` or `grid` can be used as `spatial_system` in creation of the `JumpProblem`.\n\n### Hopping rates\n\nThe most general form of hopping rates that is supported is $$D_{s,i,j}$$ -- each (species, source, destination) triple gets its own independent hopping rate. To use this, `hopping_constants` must be of type `Matrix{Vector{F}} where F <: Number` (usually `F` is `Float64`) with `hopping_constants[s,i][j]` being the hopping rate of species $$s$$ at site $$i$$ to neighbor at index $$j$$. Note that neighbors are in ascending order, like in `LightGraphs`. Here is an example where only hopping up and left is allowed."
      ],
      "metadata": {}
    },
    {
      "outputs": [],
      "cell_type": "code",
      "source": [
        "hopping_constants = Matrix{Vector{Float64}}(undef, num_species, num_nodes)\nfor ci in CartesianIndices(hopping_constants)\n    (species, site) = Tuple(ci)\n    hopping_constants[species, site] = zeros(outdegree(grid, site))\n    for (n, nb) in enumerate(neighbors(grid, site))\n        if nb < site\n            hopping_constants[species, site][n] = 1.0\n        end\n    end\nend"
      ],
      "metadata": {},
      "execution_count": null
    },
    {
      "cell_type": "markdown",
      "source": [
        "To pass in `hopping_constants` of form $$D_s * L_{i,j}$$ we need two vectors -- one for $$D_s$$ and one for $$L_{i,j}$$. Here is an example."
      ],
      "metadata": {}
    },
    {
      "outputs": [],
      "cell_type": "code",
      "source": [
        "species_hop_constants = ones(num_species)\nsite_hop_constants = Vector{Vector{Float64}}(undef, num_nodes)\nfor site in 1:num_nodes\n    site_hop_constants[site] = ones(outdegree(grid, site))\nend\nhopping_constants=Pair(species_hop_constants, site_hop_constants)"
      ],
      "metadata": {},
      "execution_count": null
    },
    {
      "cell_type": "markdown",
      "source": [
        "We must combine both vectors into a pair as in the last line above.\n\nFinally, to use in `hopping_constants` of form $$D_{s,i} * L_{i,j}$$ we construct a matrix instead of a vector for $$D_{s,j}$$."
      ],
      "metadata": {}
    },
    {
      "outputs": [],
      "cell_type": "code",
      "source": [
        "species_hop_constants = ones(num_species, num_nodes)\nsite_hop_constants = Vector{Vector{Float64}}(undef, num_nodes)\nfor site in 1:num_nodes\n    site_hop_constants[site] = ones(outdegree(grid, site))\nend\nhopping_constants=Pair(species_hop_constants, site_hop_constants)"
      ],
      "metadata": {},
      "execution_count": null
    },
    {
      "cell_type": "markdown",
      "source": [
        "We can use either of the four versions of `hopping_constants` to construct a `JumpProblem` with the same syntax as in the original example. The different forms of hopping rates are supported not only for convenience but also for better memory usage and performance. So it is recommended that the most specialized form of hopping rates is used.\n\n### Solvers\n\nThere are currently two specialized \"spatial\" solvers: `NSM` and `DirectCRDirect`. The former stands for Next Subvolume Method [^1]. The latter employs Composition-Rejection to sample the next site to fire, similar to the ordinary DirectCR method. For larger networks `DirectCRDirect` is expected to be faster. Both methods can be used interchangeably.\n\nAdditionally, all standard solvers are supported as well, although they are expected to use more memory and be slower. They \"flatten\" the problem, i.e. turn all hops into reactions, resulting in a much larger system. For example, to use the Next Reaction Method (`NRM`), simply pass in `NRM()` instead of `NSM()` in the construction of the `JumpProblem`. Importantly, you *must* pass in `hopping_constants` in the `D_{s,i,j}` or `D_{s,i}` form to use any of the non-specialized solvers.\n\n## References\n[^1]: Elf, Johan and Ehrenberg, Mäns. “Spontaneous separation of bi-stable biochemical systems into spatial domains of opposite phases”. In: _Systems biology_ 1.2 (2004), pp. 230–236."
      ],
      "metadata": {}
    }
  ],
  "nbformat_minor": 2,
  "metadata": {
    "language_info": {
      "file_extension": ".jl",
      "mimetype": "application/julia",
      "name": "julia",
      "version": "1.8.1"
    },
    "kernelspec": {
      "name": "julia-1.8",
      "display_name": "Julia 1.8.1",
      "language": "julia"
    }
  },
  "nbformat": 4
}
