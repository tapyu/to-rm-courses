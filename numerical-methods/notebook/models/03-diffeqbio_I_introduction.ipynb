{
  "cells": [
    {
      "cell_type": "markdown",
      "source": [
        "DiffEqBiological.jl is a domain specific language (DSL) for writing chemical\nreaction networks in Julia. The generated chemical reaction network model can\nthen be translated into a variety of mathematical models which can be solved\nusing components of the broader\n[DifferentialEquations.jl](http://sciml.ai/) ecosystem.\n\nIn this tutorial we'll provide an introduction to using DiffEqBiological to\nspecify chemical reaction networks, and then to solve ODE, jump, tau-leaping and\nSDE models generated from them. Let's start by using the DiffEqBiological\n`reaction_network` macro to specify a simply chemical reaction network; the\nwell-known Repressilator.\n\nWe first import the basic packages we'll need, and use Plots.jl for making\nfigures:"
      ],
      "metadata": {}
    },
    {
      "outputs": [],
      "cell_type": "code",
      "source": [
        "# If not already installed, first hit \"]\" within a Julia REPL. Then type:\n# add DifferentialEquations DiffEqBiological PyPlot Plots Latexify\n\nusing DifferentialEquations, DiffEqBiological, Plots, Latexify\npyplot(fmt=:svg);"
      ],
      "metadata": {},
      "execution_count": null
    },
    {
      "cell_type": "markdown",
      "source": [
        "We now construct the reaction network. The basic types of arrows and predefined\nrate laws one can use are discussed in detail within the DiffEqBiological\n[Chemical Reaction Models\ndocumentation](https://docs.sciml.ai/dev/models/biological). Here\nwe use a mix of first order, zero order and repressive Hill function rate laws.\nNote, $\\varnothing$ corresponds to the empty state, and is used for zeroth order\nproduction and first order degradation reactions:"
      ],
      "metadata": {}
    },
    {
      "outputs": [],
      "cell_type": "code",
      "source": [
        "repressilator = @reaction_network begin\n    hillr(P₃,α,K,n), ∅ --> m₁\n    hillr(P₁,α,K,n), ∅ --> m₂\n    hillr(P₂,α,K,n), ∅ --> m₃\n    (δ,γ), m₁ ↔ ∅\n    (δ,γ), m₂ ↔ ∅\n    (δ,γ), m₃ ↔ ∅\n    β, m₁ --> m₁ + P₁\n    β, m₂ --> m₂ + P₂\n    β, m₃ --> m₃ + P₃\n    μ, P₁ --> ∅\n    μ, P₂ --> ∅\n    μ, P₃ --> ∅\nend α K n δ γ β μ;"
      ],
      "metadata": {},
      "execution_count": null
    },
    {
      "cell_type": "markdown",
      "source": [
        "We can use Latexify to look at the corresponding reactions and understand the\ngenerated rate laws for each reaction"
      ],
      "metadata": {}
    },
    {
      "outputs": [],
      "cell_type": "code",
      "source": [
        "latexify(repressilator; env=:chemical)"
      ],
      "metadata": {},
      "execution_count": null
    },
    {
      "outputs": [],
      "cell_type": "code",
      "source": [
        "mathjax = WEAVE_ARGS[:doctype] == \"pdf\" ? false : true\nx = latexify(repressilator; env=:chemical, starred=true, mathjax=mathjax);\ndisplay(\"text/latex\", \"$x\");"
      ],
      "metadata": {},
      "execution_count": null
    },
    {
      "cell_type": "markdown",
      "source": [
        "We can also use Latexify to look at the corresponding ODE model for the chemical\nsystem"
      ],
      "metadata": {}
    },
    {
      "outputs": [],
      "cell_type": "code",
      "source": [
        "latexify(repressilator, cdot=false)"
      ],
      "metadata": {},
      "execution_count": null
    },
    {
      "outputs": [],
      "cell_type": "code",
      "source": [
        "x = latexify(repressilator, cdot=false, starred=true);\ndisplay(\"text/latex\", \"$x\");"
      ],
      "metadata": {},
      "execution_count": null
    },
    {
      "cell_type": "markdown",
      "source": [
        "To solve the ODEs we need to specify the values of the parameters in the model,\nthe initial condition, and the time interval to solve the model on. To do this\nit helps to know the orderings of the parameters and the species. Parameters are\nordered in the same order they appear after the `end` statement in the\n`@reaction_network` macro. Species are ordered in the order they first appear\nwithin the `@reaction_network` macro. We can see these orderings using the\n`speciesmap` and `paramsmap` functions:"
      ],
      "metadata": {}
    },
    {
      "outputs": [],
      "cell_type": "code",
      "source": [
        "speciesmap(repressilator)"
      ],
      "metadata": {},
      "execution_count": null
    },
    {
      "outputs": [],
      "cell_type": "code",
      "source": [
        "paramsmap(repressilator)"
      ],
      "metadata": {},
      "execution_count": null
    },
    {
      "cell_type": "markdown",
      "source": [
        "## Solving the ODEs:\nKnowing these orderings, we can create parameter and initial condition vectors,\nand setup the `ODEProblem` we want to solve:"
      ],
      "metadata": {}
    },
    {
      "outputs": [],
      "cell_type": "code",
      "source": [
        "# parameters [α,K,n,δ,γ,β,μ]\np = (.5, 40, 2, log(2)/120, 5e-3, 20*log(2)/120, log(2)/60)\n\n# initial condition [m₁,m₂,m₃,P₁,P₂,P₃]\nu₀ = [0.,0.,0.,20.,0.,0.]\n\n# time interval to solve on\ntspan = (0., 10000.)\n\n# create the ODEProblem we want to solve\noprob = ODEProblem(repressilator, u₀, tspan, p)"
      ],
      "metadata": {},
      "execution_count": null
    },
    {
      "cell_type": "markdown",
      "source": [
        "At this point we are all set to solve the ODEs. We can now use any ODE solver\nfrom within the DiffEq package. We'll just use the default DifferentialEquations\nsolver for now, and then plot the solutions:"
      ],
      "metadata": {}
    },
    {
      "outputs": [],
      "cell_type": "code",
      "source": [
        "sol = solve(oprob, saveat=10.)\nplot(sol, fmt=:svg)"
      ],
      "metadata": {},
      "execution_count": null
    },
    {
      "cell_type": "markdown",
      "source": [
        "We see the well-known oscillatory behavior of the repressilator! For more on\nchoices of ODE solvers, see the JuliaDiffEq\n[documentation](https://docs.sciml.ai/dev/solvers/ode_solve).\n\n---\n\n## Stochastic Simulation Algorithms (SSAs) for Stochastic Chemical Kinetics\nLet's now look at a stochastic chemical kinetics model of the repressilator,\nmodeling it with jump processes. Here we will construct a DiffEqJump\n`JumpProblem` that uses Gillespie's `Direct` method, and then solve it to\ngenerate one realization of the jump process:"
      ],
      "metadata": {}
    },
    {
      "outputs": [],
      "cell_type": "code",
      "source": [
        "# first we redefine the initial condition to be integer valued\nu₀ = [0,0,0,20,0,0]\n\n# next we create a discrete problem to encode that our species are integer valued:\ndprob = DiscreteProblem(repressilator, u₀, tspan, p)\n\n# now we create a JumpProblem, and specify Gillespie's Direct Method as the solver:\njprob = JumpProblem(dprob, Direct(), repressilator, save_positions=(false,false))\n\n# now let's solve and plot the jump process:\nsol = solve(jprob, SSAStepper(), saveat=10.)\nplot(sol, fmt=:svg)"
      ],
      "metadata": {},
      "execution_count": null
    },
    {
      "cell_type": "markdown",
      "source": [
        "Here we see that oscillations remain, but become much noiser. Note, in\nconstructing the `JumpProblem` we could have used any of the SSAs that are part\nof DiffEqJump instead of the `Direct` method, see the list of SSAs (i.e.\nconstant rate jump aggregators) in the\n[documentation](https://docs.sciml.ai/latest/types/jump_types/#Constant-Rate-Jump-Aggregators-1).\n\n---\n## $\\tau$-leaping Methods:\nWhile SSAs generate exact realizations for stochastic chemical kinetics jump\nprocess models, [$\\tau$-leaping](https://en.wikipedia.org/wiki/Tau-leaping)\nmethods offer a performant alternative by discretizing in time the underlying\ntime-change representation of the stochastic process. The DiffEqJump package has\nlimited support for $\\tau$-leaping methods in the form of the basic Euler's\nmethod type approximation proposed by Gillespie. We can simulate a $\\tau$-leap\napproximation to the repressilator by using the  `RegularJump` representation of\nthe network to construct a `JumpProblem`:"
      ],
      "metadata": {}
    },
    {
      "outputs": [],
      "cell_type": "code",
      "source": [
        "rjs = regularjumps(repressilator)\nlprob = JumpProblem(dprob, Direct(), rjs)\nlsol = solve(lprob, SimpleTauLeaping(), dt=.1)\nplot(lsol, plotdensity=1000, fmt=:svg)"
      ],
      "metadata": {},
      "execution_count": null
    },
    {
      "cell_type": "markdown",
      "source": [
        "---\n## Chemical Langevin Equation (CLE) Stochastic Differential Equation (SDE) Models:\nAt an intermediary physical scale between macroscopic ODE models and microscopic\nstochastic chemical kinetic models lies the CLE, a SDE version of the model. The\nSDEs add to each ODE above a noise term. As the repressilator has species that\nget very close to zero in size, it is not a good candidate to model with the CLE\n(where solutions can then go negative and become unphysical). Let's create a\nsimpler reaction network for a birth-death process that will stay non-negative:"
      ],
      "metadata": {}
    },
    {
      "outputs": [],
      "cell_type": "code",
      "source": [
        "bdp = @reaction_network begin\n  c₁, X --> 2X\n  c₂, X --> 0\n  c₃, 0 --> X\nend c₁ c₂ c₃\np = (1.0,2.0,50.)\nu₀ = [5.]\ntspan = (0.,4.);"
      ],
      "metadata": {},
      "execution_count": null
    },
    {
      "cell_type": "markdown",
      "source": [
        "The corresponding Chemical Langevin Equation SDE is then"
      ],
      "metadata": {}
    },
    {
      "outputs": [],
      "cell_type": "code",
      "source": [
        "latexify(bdp, noise=true, cdot=false)"
      ],
      "metadata": {},
      "execution_count": null
    },
    {
      "outputs": [],
      "cell_type": "code",
      "source": [
        "x = latexify(bdp, noise=true, cdot=false, starred=true);\ndisplay(\"text/latex\", \"$x\");"
      ],
      "metadata": {},
      "execution_count": null
    },
    {
      "cell_type": "markdown",
      "source": [
        "where each $W_i(t)$ denotes an independent Brownian Motion. We can solve the CLE\nSDE model by creating an `SDEProblem` and solving it similar to what we did for\nODEs above:"
      ],
      "metadata": {}
    },
    {
      "outputs": [],
      "cell_type": "code",
      "source": [
        "# SDEProblem for CLE\nsprob = SDEProblem(bdp, u₀, tspan, p)\n\n# solve and plot, tstops is used to specify enough points\n# that the plot looks well-resolved\nsol = solve(sprob, tstops=range(0., step=4e-3, length=1001))\nplot(sol, fmt=:svg)"
      ],
      "metadata": {},
      "execution_count": null
    },
    {
      "cell_type": "markdown",
      "source": [
        "We again have complete freedom to select any of the\nStochasticDifferentialEquations.jl SDE solvers, see the\n[documentation](https://docs.sciml.ai/dev/solvers/sde_solve).\n\n---\n## What information can be queried from the reaction_network:\nThe generated `reaction_network` contains a lot of basic information. For example\n- `f=oderhsfun(repressilator)` is a function `f(du,u,p,t)` that given the current\n  state vector `u` and time `t` fills `du` with the time derivatives of `u`\n  (i.e. the right hand side of the ODEs).\n- `jac=jacfun(repressilator)` is a function `jac(J,u,p,t)` that evaluates and\n  returns the Jacobian of the ODEs in `J`. A corresponding Jacobian matrix of\n  expressions can be accessed using the `jacobianexprs` function:"
      ],
      "metadata": {}
    },
    {
      "outputs": [],
      "cell_type": "code",
      "source": [
        "latexify(jacobianexprs(repressilator), cdot=false)"
      ],
      "metadata": {},
      "execution_count": null
    },
    {
      "outputs": [],
      "cell_type": "code",
      "source": [
        "x = latexify(jacobianexprs(repressilator), cdot=false, starred=true);\ndisplay(\"text/latex\", \"$x\");"
      ],
      "metadata": {},
      "execution_count": null
    },
    {
      "cell_type": "markdown",
      "source": [
        "- `pjac = paramjacfun(repressilator)` is a function `pjac(pJ,u,p,t)` that\n  evaluates and returns the Jacobian, `pJ`, of the ODEs *with respect to the\n  parameters*. This allows `reaction_network`s to be used in the\n  DifferentialEquations.jl local sensitivity analysis package\n  [DiffEqSensitivity](https://docs.sciml.ai/dev/analysis/sensitivity).\n\n\nBy default, generated `ODEProblems` will be passed the corresponding Jacobian\nfunction, which will then be used within implicit ODE/SDE methods.\n\nThe [DiffEqBiological API\ndocumentation](https://docs.sciml.ai/dev/apis/diffeqbio) provides\na thorough description of the many query functions that are provided to access\nnetwork properties and generated functions. In DiffEqBiological Tutorial II\nwe'll explore the API.\n\n---\n## Getting Help\nHave a question related to DiffEqBiological or this tutorial? Feel free to ask\nin the DifferentialEquations.jl [Gitter](https://gitter.im/JuliaDiffEq/Lobby).\nIf you think you've found a bug in DiffEqBiological, or would like to\nrequest/discuss new functionality, feel free to open an issue on\n[Github](https://github.com/JuliaDiffEq/DiffEqBiological.jl) (but please check\nthere is no related issue already open). If you've found a bug in this tutorial,\nor have a suggestion, feel free to open an issue on the [SciMLTutorials Github\nsite](https://github.com/JuliaDiffEq/SciMLTutorials.jl). Or, submit a pull\nrequest to SciMLTutorials updating the tutorial!\n\n---"
      ],
      "metadata": {}
    },
    {
      "outputs": [],
      "cell_type": "code",
      "source": [
        "using SciMLTutorials\nSciMLTutorials.tutorial_footer(WEAVE_ARGS[:folder],WEAVE_ARGS[:file], remove_homedir=true)"
      ],
      "metadata": {},
      "execution_count": null
    }
  ],
  "nbformat_minor": 2,
  "metadata": {
    "language_info": {
      "file_extension": ".jl",
      "mimetype": "application/julia",
      "name": "julia",
      "version": "1.8.1"
    },
    "kernelspec": {
      "name": "julia-1.8",
      "display_name": "Julia 1.8.1",
      "language": "julia"
    }
  },
  "nbformat": 4
}
