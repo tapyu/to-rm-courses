{
  "cells": [
    {
      "cell_type": "markdown",
      "source": [
        "The [DiffEqBiological\nAPI](https://docs.sciml.ai/dev/apis/diffeqbio) provides a\ncollection of functions for easily accessing network properties, and for\nincrementally building and extending a network. In this tutorial we'll go\nthrough the API, and then illustrate how to programmatically construct a\nnetwork.\n\nWe'll illustrate the API using a toggle-switch like network that contains a\nvariety of different reaction types:"
      ],
      "metadata": {}
    },
    {
      "outputs": [],
      "cell_type": "code",
      "source": [
        "using DifferentialEquations, DiffEqBiological, Latexify, Plots\nfmt = :svg\npyplot(fmt=fmt)\nrn = @reaction_network begin\n    hillr(D₂,α,K,n), ∅ --> m₁\n    hillr(D₁,α,K,n), ∅ --> m₂\n    (δ,γ), m₁ ↔ ∅\n    (δ,γ), m₂ ↔ ∅\n    β, m₁ --> m₁ + P₁\n    β, m₂ --> m₂ + P₂\n    μ, P₁ --> ∅\n    μ, P₂ --> ∅\n    (k₊,k₋), 2P₁ ↔ D₁\n    (k₊,k₋), 2P₂ ↔ D₂\n    (k₊,k₋), P₁+P₂ ↔ T\nend α K n δ γ β μ k₊ k₋;"
      ],
      "metadata": {},
      "execution_count": null
    },
    {
      "cell_type": "markdown",
      "source": [
        "This corresponds to the chemical reaction network given by"
      ],
      "metadata": {}
    },
    {
      "outputs": [],
      "cell_type": "code",
      "source": [
        "latexify(rn; env=:chemical)"
      ],
      "metadata": {},
      "execution_count": null
    },
    {
      "outputs": [],
      "cell_type": "code",
      "source": [
        "x = latexify(rn; env=:chemical, starred=true, mathjax=true);\ndisplay(\"text/latex\", \"$x\");"
      ],
      "metadata": {},
      "execution_count": null
    },
    {
      "cell_type": "markdown",
      "source": [
        "---\n## Network Properties\n[Basic\nproperties](https://docs.sciml.ai/latest/apis/diffeqbio/#Basic-properties-1)\nof the generated network include the `speciesmap` and `paramsmap` functions we\nexamined in the last tutorial, along with the corresponding `species` and\n`params` functions:"
      ],
      "metadata": {}
    },
    {
      "outputs": [],
      "cell_type": "code",
      "source": [
        "species(rn)"
      ],
      "metadata": {},
      "execution_count": null
    },
    {
      "outputs": [],
      "cell_type": "code",
      "source": [
        "params(rn)"
      ],
      "metadata": {},
      "execution_count": null
    },
    {
      "cell_type": "markdown",
      "source": [
        "The numbers of species, parameters and reactions can be accessed using\n`numspecies(rn)`, `numparams(rn)` and `numreactions(rn)`.\n\nA number of functions are available to access [properties of\nreactions](https://docs.sciml.ai/latest/apis/diffeqbio/#Reaction-Properties-1)\nwithin the generated network, including `substrates`, `products`, `dependents`,\n`ismassaction`, `substratestoich`, `substratesymstoich`, `productstoich`,\n`productsymstoich`, and `netstoich`. Each of these functions takes two\narguments, the reaction network `rn` and the index of the reaction to query\ninformation about. For example, to find the substrate symbols and their\ncorresponding stoichiometries for the 11th reaction, `2P₁ --> D₁`, we would use"
      ],
      "metadata": {}
    },
    {
      "outputs": [],
      "cell_type": "code",
      "source": [
        "substratesymstoich(rn, 11)"
      ],
      "metadata": {},
      "execution_count": null
    },
    {
      "cell_type": "markdown",
      "source": [
        "Broadcasting works on all these functions, allowing the construction of a vector\nholding the queried information across all reactions, i.e."
      ],
      "metadata": {}
    },
    {
      "outputs": [],
      "cell_type": "code",
      "source": [
        "substratesymstoich.(rn, 1:numreactions(rn))"
      ],
      "metadata": {},
      "execution_count": null
    },
    {
      "cell_type": "markdown",
      "source": [
        "To see the net stoichiometries for all reactions we would use"
      ],
      "metadata": {}
    },
    {
      "outputs": [],
      "cell_type": "code",
      "source": [
        "netstoich.(rn, 1:numreactions(rn))"
      ],
      "metadata": {},
      "execution_count": null
    },
    {
      "cell_type": "markdown",
      "source": [
        "Here the first integer in each pair corresponds to the index of the species\n(with symbol `species(rn)[index]`). The second integer corresponds to the net\nstoichiometric coefficient of the species within the reaction. `substratestoich`\nand `productstoich` are defined similarly.\n\nSeveral functions are also provided that calculate different types of\n[dependency\ngraphs](https://docs.sciml.ai/latest/apis/diffeqbio/#Dependency-Graphs-1).\nThese include `rxtospecies_depgraph`, which provides a mapping from reaction\nindex to the indices of species whose population changes when the reaction\noccurs:"
      ],
      "metadata": {}
    },
    {
      "outputs": [],
      "cell_type": "code",
      "source": [
        "rxtospecies_depgraph(rn)"
      ],
      "metadata": {},
      "execution_count": null
    },
    {
      "cell_type": "markdown",
      "source": [
        "Here the last row indicates that the species with indices `[3,4,7]` will change\nvalues when the reaction `T --> P₁ + P₂` occurs. To confirm these are the\ncorrect species we can look at"
      ],
      "metadata": {}
    },
    {
      "outputs": [],
      "cell_type": "code",
      "source": [
        "species(rn)[[3,4,7]]"
      ],
      "metadata": {},
      "execution_count": null
    },
    {
      "cell_type": "markdown",
      "source": [
        "The `speciestorx_depgraph` similarly provides a mapping from species to reactions\nfor which their *rate laws* depend on that species. These correspond to all reactions\nfor which the given species is in the `dependent` set of the reaction. We can verify this\nfor the first species, `m₁`:"
      ],
      "metadata": {}
    },
    {
      "outputs": [],
      "cell_type": "code",
      "source": [
        "speciestorx_depgraph(rn)[1]"
      ],
      "metadata": {},
      "execution_count": null
    },
    {
      "outputs": [],
      "cell_type": "code",
      "source": [
        "findall(depset -> in(:m₁, depset), dependents.(rn, 1:numreactions(rn)))"
      ],
      "metadata": {},
      "execution_count": null
    },
    {
      "cell_type": "markdown",
      "source": [
        "Finally, `rxtorx_depgraph` provides a mapping that shows when a given reaction\noccurs, which other reactions have rate laws that involve species whose value\nwould have changed:"
      ],
      "metadata": {}
    },
    {
      "outputs": [],
      "cell_type": "code",
      "source": [
        "rxtorx_depgraph(rn)"
      ],
      "metadata": {},
      "execution_count": null
    },
    {
      "cell_type": "markdown",
      "source": [
        "#### Note on Using Network Property API Functions\nMany basic network query and reaction property functions are simply accessors,\nreturning information that is already stored within the generated\n`reaction_network`. For these functions, modifying the returned data structures\nmay lead to inconsistent internal state within the network. As such, they should\nbe used for accessing, but not modifying, network properties. The [API\ndocumentation](https://docs.sciml.ai/dev/apis/diffeqbio)\nindicates which functions return newly allocated data structures and which\nreturn data stored within the `reaction_network`.\n\n---\n## Incremental Construction of Networks\nThe `@reaction_network` macro is monolithic, in that it not only constructs and\nstores basic network properties such as the reaction stoichiometries, but also\ngenerates **everything** needed to immediately solve ODE, SDE and jump models\nusing the network. This includes Jacobian functions, noise functions, and jump\nfunctions for each reaction. While this allows for a compact interface to the\nDifferentialEquations.jl solvers, it can also be computationally expensive for\nlarge networks, where a user may only wish to solve one type of problem and/or\nhave fine-grained control over what is generated. In addition, some types of\nreaction network structures are more amenable to being constructed\nprogrammatically, as opposed to writing out all reactions by hand within one\nmacro. For these reasons DiffEqBiological provides two additional macros that\nonly *initially* setup basic reaction network properties, and which can be\nextended through a programmatic interface: `@min_reaction_network` and\n`@empty_reaction_network`. We now give an introduction to constructing these\nmore minimal network representations, and how they can be programmatically\nextended. See also the relevant [API\nsection](https://docs.sciml.ai/latest/apis/diffeqbio/#Reaction-Network-Generation-Macros-1).\n\nThe `@min_reaction_network` macro works identically to the `@reaction_network`\nmacro, but the generated network will only be complete with respect to its\nrepresentation of chemical network properties (i.e. species, parameters and\nreactions). No ODE, SDE or jump models are generated during the macro call. It\ncan subsequently be extended with the addition of new species, parameters or\nreactions. The `@empty_reaction_network` allocates an empty network structure\nthat can also be extended using the programmatic interface. For example, consider\na partial version of the toggle-switch like network we defined above:"
      ],
      "metadata": {}
    },
    {
      "outputs": [],
      "cell_type": "code",
      "source": [
        "rnmin = @min_reaction_network begin\n    (δ,γ), m₁ ↔ ∅\n    (δ,γ), m₂ ↔ ∅\n    β, m₁ --> m₁ + P₁\n    β, m₂ --> m₂ + P₂\n    μ, P₁ --> ∅\n    μ, P₂ --> ∅\nend δ γ β μ;"
      ],
      "metadata": {},
      "execution_count": null
    },
    {
      "cell_type": "markdown",
      "source": [
        "Here we have left out the first two, and last three, reactions from the original\n`reaction_network`. To expand the network until it is functionally equivalent to\nthe original model we add back in the missing species, parameters, and *finally*\nthe missing reactions. Note, it is required that species and parameters be\ndefined before any reactions using them are added. The necessary network\nextension functions are given by `addspecies!`, `addparam!` and `addreaction!`,\nand described in the\n[API](https://docs.sciml.ai/latest/apis/diffeqbio/#Functions-to-Add-Species,-Parameters-and-Reactions-to-a-Network-1). To complete `rnmin` we first add the relevant\nspecies:"
      ],
      "metadata": {}
    },
    {
      "outputs": [],
      "cell_type": "code",
      "source": [
        "addspecies!(rnmin, :D₁)\naddspecies!(rnmin, :D₂)\naddspecies!(rnmin, :T)"
      ],
      "metadata": {},
      "execution_count": null
    },
    {
      "cell_type": "markdown",
      "source": [
        "Next we add the needed parameters"
      ],
      "metadata": {}
    },
    {
      "outputs": [],
      "cell_type": "code",
      "source": [
        "addparam!(rnmin, :α)\naddparam!(rnmin, :K)\naddparam!(rnmin, :n)\naddparam!(rnmin, :k₊)\naddparam!(rnmin, :k₋)"
      ],
      "metadata": {},
      "execution_count": null
    },
    {
      "cell_type": "markdown",
      "source": [
        "Note, both `addspecies!` and `addparam!` also accept strings encoding the\nvariable names (which are then converted to `Symbol`s internally).\n\nWe are now ready to add the missing reactions. The API provides two forms of the\n`addreaction!` function, one takes expressions analogous to what one would write\nin the macro:"
      ],
      "metadata": {}
    },
    {
      "outputs": [],
      "cell_type": "code",
      "source": [
        "addreaction!(rnmin, :(hillr(D₁,α,K,n)), :(∅ --> m₂))\naddreaction!(rnmin, :((k₊,k₋)), :(2P₂ ↔ D₂))\naddreaction!(rnmin, :k₊, :(2P₁ --> D₁))\naddreaction!(rnmin, :k₋, :(D₁ --> 2P₁))"
      ],
      "metadata": {},
      "execution_count": null
    },
    {
      "cell_type": "markdown",
      "source": [
        "The rate can be an expression or symbol as above, but can also just be a\nnumeric value. The second form of `addreaction!` takes tuples of\n`Pair{Symbol,Int}` that encode the stoichiometric coefficients of substrates and\nreactants:"
      ],
      "metadata": {}
    },
    {
      "outputs": [],
      "cell_type": "code",
      "source": [
        "# signature is addreaction!(rnmin, paramexpr, substratestoich, productstoich)\naddreaction!(rnmin, :(hillr(D₂,α,K,n)), (), (:m₁ => 1,))\naddreaction!(rnmin, :k₊, (:P₁=>1, :P₂=>1), (:T=>1,))\naddreaction!(rnmin, :k₋, (:T=>1,), (:P₁=>1, :P₂=>1))"
      ],
      "metadata": {},
      "execution_count": null
    },
    {
      "cell_type": "markdown",
      "source": [
        "Let's check that `rn` and `rnmin` have the same set of species:"
      ],
      "metadata": {}
    },
    {
      "outputs": [],
      "cell_type": "code",
      "source": [
        "setdiff(species(rn), species(rnmin))"
      ],
      "metadata": {},
      "execution_count": null
    },
    {
      "cell_type": "markdown",
      "source": [
        "the same set of params:"
      ],
      "metadata": {}
    },
    {
      "outputs": [],
      "cell_type": "code",
      "source": [
        "setdiff(params(rn), params(rnmin))"
      ],
      "metadata": {},
      "execution_count": null
    },
    {
      "cell_type": "markdown",
      "source": [
        "and the final reaction has the same substrates, reactions, and rate expression:"
      ],
      "metadata": {}
    },
    {
      "outputs": [],
      "cell_type": "code",
      "source": [
        "rxidx = numreactions(rn)\nsetdiff(substrates(rn, rxidx), substrates(rnmin, rxidx))"
      ],
      "metadata": {},
      "execution_count": null
    },
    {
      "outputs": [],
      "cell_type": "code",
      "source": [
        "setdiff(products(rn, rxidx), products(rnmin, rxidx))"
      ],
      "metadata": {},
      "execution_count": null
    },
    {
      "outputs": [],
      "cell_type": "code",
      "source": [
        "rateexpr(rn, rxidx) == rateexpr(rnmin, rxidx)"
      ],
      "metadata": {},
      "execution_count": null
    },
    {
      "cell_type": "markdown",
      "source": [
        "---\n## Extending Incrementally Generated Networks to Include ODEs, SDEs or Jumps\nOnce a network generated from `@min_reaction_network` or\n`@empty_reaction_network` has had all the associated species, parameters and\nreactions filled in, corresponding ODE, SDE or jump models can be constructed.\nThe relevant API functions are `addodes!`, `addsdes!` and `addjumps!`. One\nbenefit to contructing models with these functions is that they offer more\nfine-grained control over what actually gets constructed. For example,\n`addodes!` has the optional keyword argument, `build_jac`, which if set to\n`false` will disable construction of symbolic Jacobians and functions for\nevaluating Jacobians. For large networks this can give a significant speed-up in\nthe time required for constructing an ODE model. Each function and its\nassociated keyword arguments are described in the API section, [Functions to add\nODEs, SDEs or Jumps to a\nNetwork](https://docs.sciml.ai/latest/apis/diffeqbio/#Functions-to-Add-ODEs,-SDEs-or-Jumps-to-a-Network-1).\n\nLet's extend `rnmin` to include the needed functions for use in ODE\nsolvers:"
      ],
      "metadata": {}
    },
    {
      "outputs": [],
      "cell_type": "code",
      "source": [
        "addodes!(rnmin)"
      ],
      "metadata": {},
      "execution_count": null
    },
    {
      "cell_type": "markdown",
      "source": [
        "The [Generated Functions for\nModels](https://docs.sciml.ai/latest/apis/diffeqbio/#Generated-Functions-for-Models-1)\nsection of the API shows what functions have been generated. For ODEs these\ninclude `oderhsfun(rnmin)`, which returns a function of the form `f(du,u,p,t)`\nwhich evaluates the ODEs (i.e. the time derivatives of `u`) within `du`. For\neach generated function, the corresponding expressions from which it was\ngenerated can be retrieved using accessors from the [Generated\nExpressions](https://docs.sciml.ai/latest/apis/diffeqbio/#Generated-Expressions-1)\nsection of the API. The equations within `du` can be retrieved using the\n`odeexprs(rnmin)` function. For example:"
      ],
      "metadata": {}
    },
    {
      "outputs": [],
      "cell_type": "code",
      "source": [
        "odeexprs(rnmin)"
      ],
      "metadata": {},
      "execution_count": null
    },
    {
      "cell_type": "markdown",
      "source": [
        "Using Latexify we can see the ODEs themselves to compare with these expressions:"
      ],
      "metadata": {}
    },
    {
      "outputs": [],
      "cell_type": "code",
      "source": [
        "latexify(rnmin)"
      ],
      "metadata": {},
      "execution_count": null
    },
    {
      "outputs": [],
      "cell_type": "code",
      "source": [
        "x = latexify(rnmin, starred=true);\ndisplay(\"text/latex\", \"$x\");"
      ],
      "metadata": {},
      "execution_count": null
    },
    {
      "cell_type": "markdown",
      "source": [
        "For ODEs two other functions are generated by `addodes!`. `jacfun(rnmin)` will\nreturn the generated Jacobian evaluation function, `fjac(dJ,u,p,t)`, which given\nthe current solution `u` evaluates the Jacobian within `dJ`.\n`jacobianexprs(rnmin)` gives the corresponding matrix of expressions, which can\nbe used with Latexify to see the Jacobian:"
      ],
      "metadata": {}
    },
    {
      "outputs": [],
      "cell_type": "code",
      "source": [
        "latexify(jacobianexprs(rnmin))"
      ],
      "metadata": {},
      "execution_count": null
    },
    {
      "outputs": [],
      "cell_type": "code",
      "source": [
        "x = latexify(jacobianexprs(rnmin), starred=true);\ndisplay(\"text/latex\", \"$x\");"
      ],
      "metadata": {},
      "execution_count": null
    },
    {
      "cell_type": "markdown",
      "source": [
        "`addodes!` also generates a function that evaluates the Jacobian of the ODE\nderivative functions with respect to the parameters. `paramjacfun(rnmin)` then\nreturns the generated function. It has the form `fpjac(dPJ,u,p,t)`, which\ngiven the current solution `u` evaluates the Jacobian matrix with respect to\nparameters `p` within `dPJ`. For use in DifferentialEquations.jl solvers, an\n[`ODEFunction`](https://docs.sciml.ai/dev/features/performance_overloads)\nrepresentation of the ODEs is available from `odefun(rnmin)`.\n\n`addsdes!` and `addjumps!` work similarly to complete the network for use in\nStochasticDiffEq and DiffEqJump solvers.\n\n#### Note on Using Generated Function and Expression API Functions\nThe generated functions and expressions accessible through the API require first\ncalling the appropriate `addodes!`, `addsdes` or `addjumps` function. These are\nresponsible for actually constructing the underlying functions and expressions.\nThe API accessors simply return already constructed functions and expressions\nthat are stored within the `reaction_network` structure.\n\n---\n## Example of Generating a Network Programmatically\nFor a user directly typing in a reaction network, it is generally easier to use\nthe `@min_reaction_network` or `@reaction_network` macros to fully specify\nreactions. However, for large, structured networks it can be much easier to\ngenerate the network programmatically. For very large networks, with tens of\nthousands of reactions, the form of `addreaction!` that uses stoichiometric\ncoefficients should be preferred as it offers substantially better performance.\nTo put together everything we've seen, let's generate the network corresponding\nto a 1D continuous time random walk, approximating the diffusion of molecules\nwithin an interval.\n\nThe basic \"reaction\" network we wish to study is\n\n$$\nu_1 \\leftrightarrows u_2 \\leftrightarrows u_3 \\cdots \\leftrightarrows u_{N}\n$$\n\nfor $N$ lattice sites on $[0,1]$. For $h = 1/N$ the lattice spacing, we'll\nassume the rate molecules hop from their current site to any particular neighbor\nis just $h^{-2}$. We can interpret this hopping process as a collection of\n$2N-2$ \"reactions\", with the form $u_i \\to u_j$ for $j=i+1$ or $j=i-1$. We construct\nthe corresponding reaction network as follows. First we set values for the basic\nparameters:"
      ],
      "metadata": {}
    },
    {
      "outputs": [],
      "cell_type": "code",
      "source": [
        "N = 64\nh = 1 / N"
      ],
      "metadata": {},
      "execution_count": null
    },
    {
      "cell_type": "markdown",
      "source": [
        "then we create an empty network, and add each species"
      ],
      "metadata": {}
    },
    {
      "outputs": [],
      "cell_type": "code",
      "source": [
        "rn = @empty_reaction_network\n\nfor i = 1:N\n    addspecies!(rn, Symbol(:u, i))\nend"
      ],
      "metadata": {},
      "execution_count": null
    },
    {
      "cell_type": "markdown",
      "source": [
        "We next add one parameter `β`, which we will set equal to the hopping rate\nof molecules, $h^{-2}$:"
      ],
      "metadata": {}
    },
    {
      "outputs": [],
      "cell_type": "code",
      "source": [
        "addparam!(rn, :β)"
      ],
      "metadata": {},
      "execution_count": null
    },
    {
      "cell_type": "markdown",
      "source": [
        "Finally, we add in the $2N-2$ possible hopping reactions:"
      ],
      "metadata": {}
    },
    {
      "outputs": [],
      "cell_type": "code",
      "source": [
        "for i = 1:N\n    (i < N) && addreaction!(rn, :β, (Symbol(:u,i)=>1,), (Symbol(:u,i+1)=>1,))\n    (i > 1) && addreaction!(rn, :β, (Symbol(:u,i)=>1,), (Symbol(:u,i-1)=>1,))\nend"
      ],
      "metadata": {},
      "execution_count": null
    },
    {
      "cell_type": "markdown",
      "source": [
        "Let's first construct an ODE model for the network"
      ],
      "metadata": {}
    },
    {
      "outputs": [],
      "cell_type": "code",
      "source": [
        "addodes!(rn)"
      ],
      "metadata": {},
      "execution_count": null
    },
    {
      "cell_type": "markdown",
      "source": [
        "We now need to specify the initial condition, parameter vector and time interval\nto solve on. We start with 10000 molecules placed at the center of the domain,\nand setup an `ODEProblem` to solve:"
      ],
      "metadata": {}
    },
    {
      "outputs": [],
      "cell_type": "code",
      "source": [
        "u₀ = zeros(N)\nu₀[div(N,2)] = 10000\np = [1/(h*h)]\ntspan = (0.,.01)\noprob = ODEProblem(rn, u₀, tspan, p)"
      ],
      "metadata": {},
      "execution_count": null
    },
    {
      "cell_type": "markdown",
      "source": [
        "We are now ready to solve the problem and plot the solution. Since we have\nessentially generated a method of lines discretization of the diffusion equation\nwith a discontinuous initial condition, we'll use an A-L stable implicit ODE\nsolver, `Rodas5`, and plot the solution at a few times:"
      ],
      "metadata": {}
    },
    {
      "outputs": [],
      "cell_type": "code",
      "source": [
        "sol = solve(oprob, Rodas5())\ntimes = [0., .0001, .001, .01]\nplt = plot()\nfor time in times\n    plot!(plt, 1:N, sol(time), fmt=fmt, xlabel=\"i\", ylabel=\"uᵢ\", label=string(\"t = \", time), lw=3)\nend\nplot(plt, ylims=(0.,10000.))"
      ],
      "metadata": {},
      "execution_count": null
    },
    {
      "cell_type": "markdown",
      "source": [
        "Here we see the characteristic diffusion of molecules from the center of the\ndomain, resulting in a shortening and widening of the solution as $t$ increases.\n\nLet's now look at a stochastic chemical kinetics jump process version of the\nmodel, where β gives the probability per time each molecule can hop from its\ncurrent lattice site to an individual neighboring site. We first add in the\njumps, disabling `regular_jumps` since they are not needed, and using the\n`minimal_jumps` flag to construct a minimal representation of the needed jumps.\nWe then construct a `JumpProblem`, and use the Composition-Rejection Direct\nmethod, `DirectCR`, to simulate the process of the molecules hopping about on\nthe lattice:"
      ],
      "metadata": {}
    },
    {
      "outputs": [],
      "cell_type": "code",
      "source": [
        "addjumps!(rn, build_regular_jumps=false, minimal_jumps=true)\n\n# make the initial condition integer valued\nu₀ = zeros(Int, N)\nu₀[div(N,2)] = 10000\n\n# setup and solve the problem\ndprob = DiscreteProblem(rn, u₀, tspan, p)\njprob = JumpProblem(dprob, DirectCR(), rn, save_positions=(false,false))\njsol = solve(jprob, SSAStepper(), saveat=times)"
      ],
      "metadata": {},
      "execution_count": null
    },
    {
      "cell_type": "markdown",
      "source": [
        "We can now plot bar graphs showing the locations of the molecules at the same\nset of times we examined the ODE solution. For comparison, we also plot the\ncorresponding ODE solutions (red lines) that we found:"
      ],
      "metadata": {}
    },
    {
      "outputs": [],
      "cell_type": "code",
      "source": [
        "times = [0., .0001, .001, .01]\nplts = []\nfor i = 1:4\n    b = bar(1:N, jsol[i], legend=false, fmt=fmt, xlabel=\"i\", ylabel=\"uᵢ\", title=string(\"t = \", times[i]))\n    plot!(b,sol(times[i]))\n    push!(plts,b)\nend\nplot(plts...)"
      ],
      "metadata": {},
      "execution_count": null
    },
    {
      "cell_type": "markdown",
      "source": [
        "Similar to the ODE solutions, we see that the molecules spread out and become\nmore and more well-mixed throughout the domain as $t$ increases. The simulation\nresults are noisy due to the finite numbers of molecules present in the\nstochsatic simulation, but since the number of molecules is large they agree\nwell with the ODE solution at each time.\n\n---\n## Getting Help\nHave a question related to DiffEqBiological or this tutorial? Feel free to ask\nin the DifferentialEquations.jl [Gitter](https://gitter.im/JuliaDiffEq/Lobby).\nIf you think you've found a bug in DiffEqBiological, or would like to\nrequest/discuss new functionality, feel free to open an issue on\n[Github](https://github.com/JuliaDiffEq/DiffEqBiological.jl) (but please check\nthere is no related issue already open). If you've found a bug in this tutorial,\nor have a suggestion, feel free to open an issue on the [SciMLTutorials Github\nsite](https://github.com/JuliaDiffEq/SciMLTutorials.jl). Or, submit a pull\nrequest to SciMLTutorials updating the tutorial!\n\n---"
      ],
      "metadata": {}
    },
    {
      "outputs": [],
      "cell_type": "code",
      "source": [
        "using SciMLTutorials\nSciMLTutorials.tutorial_footer(WEAVE_ARGS[:folder],WEAVE_ARGS[:file], remove_homedir=true)"
      ],
      "metadata": {},
      "execution_count": null
    }
  ],
  "nbformat_minor": 2,
  "metadata": {
    "language_info": {
      "file_extension": ".jl",
      "mimetype": "application/julia",
      "name": "julia",
      "version": "1.8.1"
    },
    "kernelspec": {
      "name": "julia-1.8",
      "display_name": "Julia 1.8.1",
      "language": "julia"
    }
  },
  "nbformat": 4
}
