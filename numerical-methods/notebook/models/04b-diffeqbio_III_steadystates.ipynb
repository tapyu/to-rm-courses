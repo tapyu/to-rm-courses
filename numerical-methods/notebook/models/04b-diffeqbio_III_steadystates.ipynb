{
  "cells": [
    {
      "cell_type": "markdown",
      "source": [
        "Several types of steady state analysis can be performed for networks defined\nwith DiffEqBiological by utilizing homotopy continuation. This allows for\nfinding the steady states and bifurcations within a large class of systems. In\nthis tutorial we'll go through several examples of using this functionality.\n\nWe start by loading the necessary packages:"
      ],
      "metadata": {}
    },
    {
      "outputs": [],
      "cell_type": "code",
      "source": [
        "using DiffEqBiological, Plots\ngr(); default(fmt = :png);"
      ],
      "metadata": {},
      "execution_count": null
    },
    {
      "cell_type": "markdown",
      "source": [
        "### Steady states and stability of a biochemical reaction network.\nBistable switches are well known biological motifs, characterised by the\npresence of two different stable steady states."
      ],
      "metadata": {}
    },
    {
      "outputs": [],
      "cell_type": "code",
      "source": [
        "bistable_switch = @reaction_network begin\n    d,    (X,Y) → ∅\n    hillR(Y,v1,K1,n1), ∅ → X\n    hillR(X,v2,K2,n2), ∅ → Y\nend d v1 K1 n1 v2 K2 n2\nd = 0.01;\nv1 = 1.5; K1 = 30; n1 = 3;\nv2 = 1.; K2 = 30; n2 = 3;\nbistable_switch_p = [d, v1 ,K1, n1, v2, K2, n2];"
      ],
      "metadata": {},
      "execution_count": null
    },
    {
      "cell_type": "markdown",
      "source": [
        "The steady states can be found using the `steady_states` function (which takes a reaction network and a set of parameter values as input). The stability of these steady states can be found using the `stability` function."
      ],
      "metadata": {}
    },
    {
      "outputs": [],
      "cell_type": "code",
      "source": [
        "ss = steady_states(bistable_switch, bistable_switch_p)"
      ],
      "metadata": {},
      "execution_count": null
    },
    {
      "outputs": [],
      "cell_type": "code",
      "source": [
        "stability(ss,bistable_switch, bistable_switch_p)"
      ],
      "metadata": {},
      "execution_count": null
    },
    {
      "cell_type": "markdown",
      "source": [
        "Since the equilibration methodology is based on homotopy continuation, it is not\nable to handle systems with non-integer exponents, or non polynomial reaction\nrates. Neither of the following two systems will work.\n\nThis system contains a non-integer exponent:"
      ],
      "metadata": {}
    },
    {
      "outputs": [],
      "cell_type": "code",
      "source": [
        "rn1 = @reaction_network begin\n    p, ∅ → X\n    hill(X,v,K,n), X → ∅\nend p v K n\np1 = [1.,2.5,1.5,1.5]\nsteady_states(rn1,p1)"
      ],
      "metadata": {},
      "execution_count": null
    },
    {
      "cell_type": "markdown",
      "source": [
        "This system contains a logarithmic reaction rate:"
      ],
      "metadata": {}
    },
    {
      "outputs": [],
      "cell_type": "code",
      "source": [
        "rn2 = @reaction_network begin\n    p, ∅ → X\n    log(X), X → ∅\nend p\np2 = [1.]\nsteady_states(rn2,p2)"
      ],
      "metadata": {},
      "execution_count": null
    },
    {
      "cell_type": "markdown",
      "source": [
        "### Bifurcation diagrams for biochemical reaction networks\nBifurcation diagrams illustrate how the steady states of a system depend on one\nor more parameters. They can be computed with the `bifurcations` function. It\ntakes the same arguments as `steady_states`, with the addition of the parameter\none wants to vary, and an interval over which to vary it:"
      ],
      "metadata": {}
    },
    {
      "outputs": [],
      "cell_type": "code",
      "source": [
        "bif = bifurcations(bistable_switch, bistable_switch_p, :v1, (.1,5.))\nplot(bif,ylabel=\"[X]\",label=\"\")\nplot!([[],[]],color=[:blue :red],label = [\"Stable\" \"Unstable\"])"
      ],
      "metadata": {},
      "execution_count": null
    },
    {
      "cell_type": "markdown",
      "source": [
        "The values for the second variable in the system can also be displayed, by\ngiving that as an additional input to `plot` (it is the second argument, directly\nafter the bifurcation diagram object):"
      ],
      "metadata": {}
    },
    {
      "outputs": [],
      "cell_type": "code",
      "source": [
        "plot(bif,2,ylabel=\"[Y]\")\nplot!([[],[]],color=[:blue :red],label = [\"Stable\" \"Unstable\"])"
      ],
      "metadata": {},
      "execution_count": null
    },
    {
      "cell_type": "markdown",
      "source": [
        "The `plot` function also accepts all other arguments which the Plots.jl `plot` function accepts."
      ],
      "metadata": {}
    },
    {
      "outputs": [],
      "cell_type": "code",
      "source": [
        "bif = bifurcations(bistable_switch, bistable_switch_p,:v1,(.1,10.))\nplot(bif,linewidth=1.,title=\"A bifurcation diagram\",ylabel=\"Steady State concentration\")\nplot!([[],[]],color=[:blue :red],label = [\"Stable\" \"Unstable\"])"
      ],
      "metadata": {},
      "execution_count": null
    },
    {
      "cell_type": "markdown",
      "source": [
        "Certain parameters, like `n1`, cannot be sensibly varied over a continuous\ninterval. Instead, a discrete bifurcation diagram can be calculated with the\n`bifurcation_grid` function. Instead of an interval, the last argument is a\nrange of numbers:"
      ],
      "metadata": {}
    },
    {
      "outputs": [],
      "cell_type": "code",
      "source": [
        "bif = bifurcation_grid(bistable_switch, bistable_switch_p,:n1,1.:5.)\nplot(bif)\nscatter!([[],[]],color=[:blue :red],label = [\"Stable\" \"Unstable\"])"
      ],
      "metadata": {},
      "execution_count": null
    },
    {
      "cell_type": "markdown",
      "source": [
        "### Bifurcation diagrams over two dimensions\nIn addition to the bifurcation diagrams illustrated above, where only a single\nvariable is varied, it is also possible to investigate the steady state\nproperties of s system as two different parameters are varied. Due to the nature\nof the underlying bifurcation algorithm it is not possible to continuously vary\nboth parameters. Instead, a set of discrete values are selected for the first\nparameter, and a continuous interval for the second. Next, for each discrete\nvalue of the first parameter, a normal bifurcation diagram is created over the\ninterval given for the second parameter."
      ],
      "metadata": {}
    },
    {
      "outputs": [],
      "cell_type": "code",
      "source": [
        "bif = bifurcation_grid_diagram(bistable_switch, bistable_switch_p,:n1,0.:4.,:v1,(.1,5.))\nplot(bif)\nplot!([[],[]],color=[:blue :red],label = [\"Stable\" \"Unstable\"])"
      ],
      "metadata": {},
      "execution_count": null
    },
    {
      "cell_type": "markdown",
      "source": [
        "In the single variable case we could use a `bifurcation_grid` to investigate the\nbehavior of a parameter which could only attain discrete values. In the same\nway, if we are interested in two parameters, both of which require integer\nvalues, we can use `bifrucation_grid_2d`. In our case, this is required if we\nwant to vary both the parameters `n1` and `n2`:"
      ],
      "metadata": {}
    },
    {
      "outputs": [],
      "cell_type": "code",
      "source": [
        "bif = bifurcation_grid_2d(bistable_switch, bistable_switch_p,:n1,1.:3.,:n2,1.:10.)\nplot(bif)\nscatter!([[],[]],color=[:blue :red],label = [\"Stable\" \"Unstable\"])"
      ],
      "metadata": {},
      "execution_count": null
    },
    {
      "cell_type": "markdown",
      "source": [
        "### The Brusselator\nThe Brusselator is a well know reaction network, which may or may not oscillate,\ndepending on parameter values."
      ],
      "metadata": {}
    },
    {
      "outputs": [],
      "cell_type": "code",
      "source": [
        "brusselator = @reaction_network begin\n    A, ∅ → X\n    1, 2X + Y → 3X\n    B, X → Y\n    1, X → ∅\nend A B;\nA = 0.5; B = 4.;\nbrusselator_p = [A, B];"
      ],
      "metadata": {},
      "execution_count": null
    },
    {
      "cell_type": "markdown",
      "source": [
        "The system has only one steady state, for $(X,Y)=(A,B/A)$ This fixed point\nbecomes unstable when $B > 1+A^2$, leading to oscillations. Bifurcation diagrams\ncan be used to determine the system's stability, and hence look for where oscillations might appear in the Brusselator:"
      ],
      "metadata": {}
    },
    {
      "outputs": [],
      "cell_type": "code",
      "source": [
        "bif = bifurcations(brusselator,brusselator_p,:B,(0.1,2.5))\nplot(bif,2)\nplot!([[],[],[],[]],color=[:blue :cyan :orange :red],label = [\"Stable Real\" \"Stable Complex\" \"Unstable Complex\" \"Unstable Real\"])"
      ],
      "metadata": {},
      "execution_count": null
    },
    {
      "cell_type": "markdown",
      "source": [
        "Here red and yellow colors label unstable steady-states, while blue and cyan\nlabel stable steady-states. (In addition, yellow and cyan correspond to points\nwhere at least one eigenvalue of the Jacobian is imaginary, while red and blue\ncorrespond to points with real-valued eigenvalues.)\n\nGiven `A=0.5`, the point at which the system should become unstable is `B=1.25`. We can confirm this in the bifurcation diagram.\n\nWe can also investigate the behavior when we vary both parameters of the system:"
      ],
      "metadata": {}
    },
    {
      "outputs": [],
      "cell_type": "code",
      "source": [
        "bif = bifurcation_grid_diagram(brusselator,brusselator_p,:B,0.5:0.02:5.0,:A,(0.2,5.0))\nplot(bif)\nplot!([[],[],[],[]],color=[:blue :cyan :orange :red],label = [\"Stable Real\" \"Stable Complex\" \"Unstable Complex\" \"Unstable Real\"])"
      ],
      "metadata": {},
      "execution_count": null
    },
    {
      "cell_type": "markdown",
      "source": [
        "---\n## Getting Help\nHave a question related to DiffEqBiological or this tutorial? Feel free to ask\nin the DifferentialEquations.jl [Gitter](https://gitter.im/JuliaDiffEq/Lobby).\nIf you think you've found a bug in DiffEqBiological, or would like to\nrequest/discuss new functionality, feel free to open an issue on\n[Github](https://github.com/JuliaDiffEq/DiffEqBiological.jl) (but please check\nthere is no related issue already open). If you've found a bug in this tutorial,\nor have a suggestion, feel free to open an issue on the [SciMLTutorials Github\nsite](https://github.com/JuliaDiffEq/SciMLTutorials.jl). Or, submit a pull\nrequest to SciMLTutorials updating the tutorial!\n\n---"
      ],
      "metadata": {}
    },
    {
      "outputs": [],
      "cell_type": "code",
      "source": [
        "using SciMLTutorials\nSciMLTutorials.tutorial_footer(WEAVE_ARGS[:folder],WEAVE_ARGS[:file], remove_homedir=true)"
      ],
      "metadata": {},
      "execution_count": null
    }
  ],
  "nbformat_minor": 2,
  "metadata": {
    "language_info": {
      "file_extension": ".jl",
      "mimetype": "application/julia",
      "name": "julia",
      "version": "1.8.1"
    },
    "kernelspec": {
      "name": "julia-1.8",
      "display_name": "Julia 1.8.1",
      "language": "julia"
    }
  },
  "nbformat": 4
}
