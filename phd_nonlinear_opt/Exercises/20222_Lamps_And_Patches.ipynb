{
 "cells": [
  {
   "cell_type": "code",
   "execution_count": 2,
   "id": "e9808f29",
   "metadata": {},
   "outputs": [
    {
     "ename": "ErrorException",
     "evalue": "syntax: \"%\" is not a unary operator",
     "output_type": "error",
     "traceback": [
      "syntax: \"%\" is not a unary operator\n",
      "\n",
      "Stacktrace:\n",
      " [1] top-level scope at /home/ufc/git/courses/phd_nonlinear_opt/Exercises/20222_Lamps_And_Patches.ipynb:1"
     ]
    }
   ],
   "source": [
    "%plot inline -w 640"
   ]
  },
  {
   "cell_type": "markdown",
   "id": "27103e7e",
   "metadata": {},
   "source": [
    "# Nonlinear optimization - 2022.2\n",
    "\n",
    "## Optimum power for a set of $m$ lamps illuminating a set of $n$ flat patches to best approach a target illumination\n",
    "\n",
    "Consider $m$ lamps illuminating $n$ (small flat) patches. The illumination intensity $I_k$ at the $k$-th patch depends linearly on the lamp powers $p_j$ as:\n",
    "$$\n",
    "I_k = \\sum\\limits_{j=1}^m a_{k,j}p_j, \\quad \\text{with} \\quad a_{k,j} = \\dfrac{\\max\\{\\cos(\\theta_{k,j}), 0\\}}{r^{2}_{k,j}},\n",
    "$$\n",
    "where $r_{k,j}$ is the length of the vector $\\mathbf{r}_{k,j}$ connecting the center of the $k$-th patch to the position of the $j$-th lamp and $\\theta_{k,j}$ is the angle between the patch normal vector $\\mathbf{n}_{k}$ and $\\mathbf{r}_{k,j}$. See the Convex Optimization book slides for more details.\n",
    "\n",
    "The proposed problem is to achieve a desired illumination $I_{des}$ with bounded lamp powers ($p_{max}$), i.e.,\n",
    "$$\n",
    "\\begin{align*}\n",
    "    & \\min. \\underset{k=1, 2, \\ldots, n}{\\max}\\vert \\log(I_k) - \\log(I_{des})\\vert \\\\\n",
    "    \\text{s. t.}\\quad & 0 \\leq p_j \\leq p_{max}, j = 1, 2, \\ldots, m.\n",
    "\\end{align*}\n",
    "$$\n"
   ]
  },
  {
   "cell_type": "markdown",
   "id": "5ce512fd",
   "metadata": {},
   "source": [
    "### Suboptimally solve the problem using, e.g., Matlab, according to the following approaches:\n",
    "\n",
    "1. Using uniform power, i.e., $p_j = p, 0 \\leq p \\leq p_{max}$.\n",
    "2. Using least-squares, i.e., $ \\min. \\sum\\limits_{k=1}^n (I_k - I_{des})^2$, and rounding $p_j$ as $p_j = \\max\\{0, \\min\\{p_j, p_{max}\\}\\}$.\n",
    "3. Using weighted least-squares, i.e., $ \\min. \\sum\\limits_{k=1}^n (I_k - I_{des})^2 + \\sum\\limits_{k=1}^n w_j (p_j - p_{max})^2$ and iteratively adjusting the weights $w_j$ until $0 \\leq p \\leq p_{max}, \\forall j$.\n",
    "4. Using linear programming, i.e., \n",
    "$$\n",
    "\\begin{align*}\n",
    "    & \\min. \\underset{k=1, 2, \\ldots, n}{\\max}\\vert I_k - I_{des}\\vert \\\\\n",
    "    \\text{s. t.}\\quad & 0 \\leq p_j \\leq p_{max}, j = 1, 2, \\ldots, m.\n",
    "\\end{align*}\n",
    "$$"
   ]
  },
  {
   "cell_type": "markdown",
   "id": "ddd544f6",
   "metadata": {},
   "source": [
    "### Solve the problem optimally using convex optimization\n",
    "\n",
    "For this goal, consider the equivalent convex problem\n",
    "$$\n",
    "\\begin{align*}\n",
    "    & \\min. \\underset{k=1, 2, \\ldots, n}{\\max}h(I_k/I_{des}) \\\\\n",
    "    \\text{s. t.}\\quad & 0 \\leq p_j \\leq p_{max}, j = 1, 2, \\ldots, m,\n",
    "\\end{align*}\n",
    "$$\n",
    "where $h(u) = \\max\\{u, 1/u\\}$.\n"
   ]
  },
  {
   "cell_type": "code",
   "execution_count": 3,
   "id": "ec302c89",
   "metadata": {},
   "outputs": [
    {
     "ename": "UndefVarError",
     "evalue": "UndefVarError: clc not defined",
     "output_type": "error",
     "traceback": [
      "UndefVarError: clc not defined\n"
     ]
    }
   ],
   "source": [
    "clc;\n",
    "close all;\n",
    "\n",
    "showFig = true;\n",
    "numLamps = 4;\n",
    "numPatches = 5;\n",
    "maxPwr = 1;\n",
    "desiredillum = 0.01;\n",
    "\n",
    "% Code for random generation\n",
    "% rng(20222);\n",
    "% lampPos = repmat([0.5 6], numLamps, 1) + 3*rand(numLamps, 2);\n",
    "% lampPos(1:end, 1) = cumsum(lampPos(:, 1));\n",
    "% patchPos = repmat([0 2], numPatches+1, 1) + 2*rand(numPatches+1, 2);\n",
    "% patchPos(1:end, 1) = cumsum(patchPos(:, 1));\n",
    "% lampPos(:, 1) = lampPos(:, 1) + patchPos(1, 1);\n",
    "\n",
    "lampPos = [0.6838 7.8976; 3.1835 7.0690; 5.5327 6.6806; 6.1963 6.5203];\n",
    "patchPos = [0.0762 2.8621; 1.4506 2.8733; 2.5122 2.5864; 4.2246 3.5846; 5.3512 2.1960; 6.3013 2.9838];\n",
    "\n",
    "lampPos = complex(lampPos(:,1), lampPos(:,2));\n",
    "patchPos = complex(patchPos(:,1), patchPos(:,2));\n",
    "patchCenter = (patchPos(1:end-1) + patchPos(2:end))/2;\n",
    "patchNorm = patchPos(2:end) - patchPos(1:end-1);\n",
    "minPatchLength = min(abs(patchNorm))/2;\n",
    "for p = 1:length(patchNorm)\n",
    "    n = null([real(patchNorm(p)) imag(patchNorm(p))]);\n",
    "    patchNorm(p) = minPatchLength*complex(n(1), n(2));\n",
    "end\n",
    "\n",
    "if showFig == true\n",
    "    plot(lampPos, 'ro', 'MarkerFaceColor', 'auto');\n",
    "    hold on;\n",
    "    plot(patchPos, 'bo-', 'MarkerFaceColor', 'auto');\n",
    "    plot(patchCenter, 'mx', 'MarkerFaceColor', 'auto');\n",
    "    plot(patchNorm + patchCenter, 'kd', 'MarkerFaceColor', 'auto');\n",
    "    for i=1:length(patchCenter),\n",
    "        plot([patchCenter(i) patchNorm(i) + patchCenter(i)], 'k--', 'MarkerFaceColor', 'auto');\n",
    "    end\n",
    "    axis equal;\n",
    "end\n",
    "ylabel('y');\n",
    "xlabel('x');\n",
    "\n",
    "radDist = zeros(length(patchCenter), length(lampPos));\n",
    "angShift = zeros(length(patchCenter), length(lampPos));\n",
    "for i = 1:length(patchCenter)\n",
    "    for j = 1:length(lampPos)\n",
    "        radDist(i, j) = abs(patchCenter(i) - lampPos(j));\n",
    "        angShift(i, j) = angle(lampPos(j)-patchCenter(i))-angle(patchNorm(i));\n",
    "    end\n",
    "end\n",
    "\n",
    "illumCoeff = radDist.^(-2).*max(cos(angShift), 0);"
   ]
  },
  {
   "cell_type": "markdown",
   "id": "b112b363",
   "metadata": {},
   "source": [
    "### 1. Using uniform power\n",
    "\n",
    "For the first method, we have that $p_j = p$ for $j \\in \\{1, 2, \\cdots, m\\}$. Therefore, the optimization problem becomes\n",
    "\n",
    "\\begin{align*}\n",
    "    & \\min{\\underset{k=1, 2, \\ldots, n}{\\max}\\vert p \\sum\\limits_{j=1}^m a_{k,j} - I_{des}\\vert}\\\\\n",
    "    & \\min{\\underset{k=1, 2, \\ldots, n}{\\max}\\left( p \\sum\\limits_{j=1}^m a_{k,j} - I_{des}\\right)^2} \\\\\n",
    "    & \\min{\\underset{k=1, 2, \\ldots, n}{\\max}\\left( p \\mathbf{a}_k^\\mathsf{T}\\mathbf{1} - I_{des}\\right)^2} \\\\\n",
    "    & \\min{\\underset{k=1, 2, \\ldots, n}{\\max}\\left( p^2 \\mathbf{a}_k^\\mathsf{T}\\mathbf{a} - 2pI_{des} \\mathbf{a}_k^\\mathsf{T}\\mathbf{1} + I_{des}^2 \\right)} \\\\\n",
    "    & \\min{\\underset{k=1, 2, \\ldots, n}{\\max}\\left( p^2 \\mathbf{a}_k^\\mathsf{T}\\mathbf{a} - 2pI_{des} \\mathbf{a}_k^\\mathsf{T}\\mathbf{1} \\right)}\n",
    "    \n",
    "\\end{align*}"
   ]
  },
  {
   "cell_type": "markdown",
   "id": "849ed2d0",
   "metadata": {},
   "source": [
    "%lsmagic"
   ]
  }
 ],
 "metadata": {
  "kernelspec": {
   "display_name": "Python 3.8.10 64-bit",
   "language": "python",
   "name": "python3"
  },
  "language_info": {
   "file_extension": ".jl",
   "mimetype": "application/julia",
   "name": "python",
   "version": "3.10.6"
  },
  "vscode": {
   "interpreter": {
    "hash": "916dbcbb3f70747c44a77c7bcd40155683ae19c65e1c03b4aa3499c5328201f1"
   }
  }
 },
 "nbformat": 4,
 "nbformat_minor": 5
}
