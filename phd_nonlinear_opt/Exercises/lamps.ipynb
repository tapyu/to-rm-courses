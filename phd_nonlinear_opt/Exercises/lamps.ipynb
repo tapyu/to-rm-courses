{
 "cells": [
  {
   "cell_type": "markdown",
   "metadata": {},
   "source": [
    "# Nonlinear optimization - 2022.2\n",
    "\n",
    "## Optimum power for a set of $m$ lamps illuminating a set of $n$ flat patches to best approach a target illumination\n",
    "\n",
    "Consider $m$ lamps illuminating $n$ (small flat) patches. The illumination intensity $I_k$ at the $k$-th patch depends linearly on the lamp powers $p_j$ as:\n",
    "$$\n",
    "I_k = \\sum\\limits_{j=1}^m a_{k,j}p_j, \\quad \\text{with} \\quad a_{k,j} = \\dfrac{\\max\\{\\cos(\\theta_{k,j}), 0\\}}{r^{2}_{k,j}},\n",
    "$$\n",
    "where $r_{k,j}$ is the length of the vector $\\mathbf{r}_{k,j}$ connecting the center of the $k$-th patch to the position of the $j$-th lamp and $\\theta_{k,j}$ is the angle between the patch normal vector $\\mathbf{n}_{k}$ and $\\mathbf{r}_{k,j}$. See the Convex Optimization book slides for more details.\n",
    "\n",
    "The proposed problem is to achieve a desired illumination $I_{des}$ with bounded lamp powers ($p_{max}$), i.e.,\n",
    "$$\n",
    "\\begin{align*}\n",
    "    & \\min{\\underset{k=1, 2, \\ldots, n}{\\max}\\vert \\log(I_k) - \\log(I_{des})\\vert} \\\\\n",
    "    \\text{s. t.}\\quad & 0 \\leq p_j \\leq p_{max}, j = 1, 2, \\ldots, m.\n",
    "\\end{align*}\n",
    "$$"
   ]
  },
  {
   "cell_type": "markdown",
   "metadata": {},
   "source": [
    "### Suboptimally solve the problem using, e.g., Matlab, according to the following approaches:\n",
    "\n",
    "1. Using uniform power, i.e., $p_j = p, 0 \\leq p \\leq p_{max}$.\n",
    "2. Using least-squares, i.e., $ \\min. \\sum\\limits_{k=1}^n (I_k - I_{des})^2$, and rounding $p_j$ as $p_j = \\max\\{0, \\min\\{p_j, p_{max}\\}\\}$.\n",
    "3. Using weighted least-squares, i.e., $ \\min. \\sum\\limits_{k=1}^n (I_k - I_{des})^2 + \\sum\\limits_{k=1}^n w_j (p_j - p_{max})^2$ and iteratively adjusting the weights $w_j$ until $0 \\leq p \\leq p_{max}, \\forall j$.\n",
    "4. Using linear programming, i.e., \n",
    "$$\n",
    "\\begin{align*}\n",
    "    & \\min{\\underset{k=1, 2, \\ldots, n}{\\max}\\vert I_k - I_{des}\\vert} \\\\\n",
    "    \\text{s. t.}\\quad & 0 \\leq p_j \\leq p_{max}, j = 1, 2, \\ldots, m.\n",
    "\\end{align*}\n",
    "$$"
   ]
  },
  {
   "cell_type": "code",
   "execution_count": 1,
   "metadata": {},
   "outputs": [
    {
     "name": "stdout",
     "output_type": "stream",
     "text": [
      "warning: colon arguments should be scalars\n",
      "warning: called from\n",
      "    null at line 67 column 14\n",
      "\n",
      "warning: colon arguments should be scalars\n",
      "warning: called from\n",
      "    null at line 67 column 14\n",
      "\n",
      "warning: colon arguments should be scalars\n",
      "warning: called from\n",
      "    null at line 67 column 14\n",
      "\n",
      "warning: colon arguments should be scalars\n",
      "warning: called from\n",
      "    null at line 67 column 14\n",
      "\n",
      "warning: colon arguments should be scalars\n",
      "warning: called from\n",
      "    null at line 67 column 14\n",
      "\n"
     ]
    },
    {
     "data": {
      "image/png": "[encoded data removed]",
      "text/plain": [
       "<IPython.core.display.Image object>"
      ]
     },
     "metadata": {},
     "output_type": "display_data"
    }
   ],
   "source": [
    "clc;\n",
    "close all;\n",
    "\n",
    "showFig = true;\n",
    "numLamps = 4;\n",
    "numPatches = 5;\n",
    "maxPwr = 1;\n",
    "desiredillum = 0.01;\n",
    "\n",
    "% Code for random generation\n",
    "% rng(20222);\n",
    "% lampPos = repmat([0.5 6], numLamps, 1) + 3*rand(numLamps, 2);\n",
    "% lampPos(1:end, 1) = cumsum(lampPos(:, 1));\n",
    "% patchPos = repmat([0 2], numPatches+1, 1) + 2*rand(numPatches+1, 2);\n",
    "% patchPos(1:end, 1) = cumsum(patchPos(:, 1));\n",
    "% lampPos(:, 1) = lampPos(:, 1) + patchPos(1, 1);\n",
    "\n",
    "lampPos = [0.6838 7.8976; 3.1835 7.0690; 5.5327 6.6806; 6.1963 6.5203];\n",
    "patchPos = [0.0762 2.8621; 1.4506 2.8733; 2.5122 2.5864; 4.2246 3.5846; 5.3512 2.1960; 6.3013 2.9838];\n",
    "\n",
    "lampPos = complex(lampPos(:,1), lampPos(:,2));\n",
    "patchPos = complex(patchPos(:,1), patchPos(:,2));\n",
    "patchCenter = (patchPos(1:end-1) + patchPos(2:end))/2;\n",
    "patchNorm = patchPos(2:end) - patchPos(1:end-1);\n",
    "minPatchLength = min(abs(patchNorm))/2;\n",
    "for p = 1:length(patchNorm)\n",
    "    n = null([real(patchNorm(p)) imag(patchNorm(p))]);\n",
    "    patchNorm(p) = minPatchLength*complex(n(1), n(2));\n",
    "end\n",
    "\n",
    "if showFig == true\n",
    "    plot(lampPos, 'ro', 'MarkerFaceColor', 'auto');\n",
    "    hold on;\n",
    "    plot(patchPos, 'bo-', 'MarkerFaceColor', 'auto');\n",
    "    plot(patchCenter, 'mx', 'MarkerFaceColor', 'auto');\n",
    "    plot(patchNorm + patchCenter, 'kd', 'MarkerFaceColor', 'auto');\n",
    "    for i=1:length(patchCenter),\n",
    "        plot([patchCenter(i) patchNorm(i) + patchCenter(i)], 'k--', 'MarkerFaceColor', 'auto');\n",
    "    end\n",
    "    axis equal;\n",
    "end\n",
    "ylabel('y');\n",
    "xlabel('x');\n",
    "\n",
    "radDist = zeros(length(patchCenter), length(lampPos));\n",
    "angShift = zeros(length(patchCenter), length(lampPos));\n",
    "for i = 1:length(patchCenter)\n",
    "    for j = 1:length(lampPos)\n",
    "        radDist(i, j) = abs(patchCenter(i) - lampPos(j));\n",
    "        angShift(i, j) = angle(lampPos(j)-patchCenter(i))-angle(patchNorm(i));\n",
    "    end\n",
    "end\n",
    "\n",
    "illumCoeff = radDist.^(-2).*max(cos(angShift), 0);\n",
    "save -mat7-binary 'lamp.mat' illumCoeff desiredillum;"
   ]
  },
  {
   "cell_type": "markdown",
   "metadata": {},
   "source": [
    "### Suboptimally solve the problem using, e.g., Matlab, according to the following approaches:\n",
    "\n",
    "1. Using uniform power, i.e., $p_j = p, 0 \\leq p \\leq p_{max}$.\n",
    "2. Using least-squares, i.e., $ \\min. \\sum\\limits_{k=1}^n (I_k - I_{des})^2$, and rounding $p_j$ as $p_j = \\max\\{0, \\min\\{p_j, p_{max}\\}\\}$.\n",
    "3. Using weighted least-squares, i.e., $ \\min. \\sum\\limits_{k=1}^n (I_k - I_{des})^2 + \\sum\\limits_{k=1}^n w_j (p_j - p_{max})^2$ and iteratively adjusting the weights $w_j$ until $0 \\leq p \\leq p_{max}, \\forall j$.\n",
    "4. Using linear programming, i.e., \n",
    "$$\n",
    "\\begin{align*}\n",
    "    & \\min. \\underset{k=1, 2, \\ldots, n}{\\max}\\vert I_k - I_{des}\\vert \\\\\n",
    "    \\text{s. t.}\\quad & 0 \\leq p_j \\leq p_{max}, j = 1, 2, \\ldots, m.\n",
    "\\end{align*}\n",
    "$$"
   ]
  },
  {
   "cell_type": "markdown",
   "metadata": {},
   "source": [
    "### 1. Using uniform power\n",
    "\n",
    "For the first method, we have that $p_j = p$ for $j \\in \\{1, 2, \\cdots, m\\}$. Therefore, the optimization problem becomes\n",
    "\n",
    "$$\n",
    "\\begin{align*}\n",
    "        & \\min{\\underset{k=1, 2, \\ldots, n}{\\max}\\left| \\log\\left(p\\sum\\limits_{j=1}^m a_{k,j}\\right) - \\log(I_{des})\\right|} \\\\\n",
    "        & \\min{\\underset{k=1, 2, \\ldots, n}{\\max}\\left| \\log\\left(p\\frac{a_{k}}{I_{des}}\\right)\\right|}.\n",
    "\\end{align*}\n",
    "$$\n",
    "where $a_{k} = \\sum\\limits_{j=1}^m a_{k,j}$."
   ]
  },
  {
   "cell_type": "code",
   "execution_count": 13,
   "metadata": {},
   "outputs": [
    {
     "name": "stderr",
     "output_type": "stream",
     "text": [
      "┌ Warning: Expression not DCP compliant. Trying to solve non-DCP compliant problems can lead to unexpected behavior.\n",
      "└ @ Convex /home/tapyu/.julia/packages/Convex/ukggP/src/dcp.jl:25\n",
      "┌ Warning: Problem not DCP compliant: objective is not DCP\n",
      "└ @ Convex /home/tapyu/.julia/packages/Convex/ukggP/src/problems.jl:54\n"
     ]
    },
    {
     "name": "stdout",
     "output_type": "stream",
     "text": [
      "------------------------------------------------------------------\n",
      "\t       SCS v3.2.0 - Splitting Conic Solver\n",
      "\t(c) Brendan O'Donoghue, Stanford University, 2012\n",
      "------------------------------------------------------------------\n",
      "problem:  variables n: 11, constraints m: 26\n",
      "cones: \t  z: primal zero / dual free vars: 1\n",
      "\t  l: linear vars: 13\n",
      "\t  e: exp vars: 12, dual exp vars: 0\n",
      "settings: eps_abs: 1.0e-04, eps_rel: 1.0e-04, eps_infeas: 1.0e-07\n",
      "\t  alpha: 1.50, scale: 1.00e-01, adaptive_scale: 1\n",
      "\t  max_iters: 100000, normalize: 1, rho_x: 1.00e-06\n",
      "\t  acceleration_lookback: 10, acceleration_interval: 10\n",
      "lin-sys:  sparse-direct\n",
      "\t  nnz(A): 35, nnz(P): 0\n",
      "------------------------------------------------------------------\n",
      " iter | pri res | dua res |   gap   |   obj   |  scale  | time (s)\n",
      "------------------------------------------------------------------\n",
      "     0| 7.07e+00  1.00e+00  1.07e+01 -5.29e+00  1.00e-01  5.49e-04 \n",
      "    25| 7.46e-06  5.18e-08  6.86e-06  3.43e-06  1.00e-01  6.34e-04 \n",
      "------------------------------------------------------------------\n",
      "status:  solved\n",
      "timings: total: 4.35e-03s = setup: 3.71e-03s + solve: 6.35e-04s\n",
      "\t lin-sys: 1.37e-05s, cones: 4.67e-04s, accel: 1.33e-06s\n",
      "------------------------------------------------------------------\n",
      "objective = 0.000003\n",
      "------------------------------------------------------------------\n"
     ]
    }
   ],
   "source": [
    "using MAT, Convex, SCS\n",
    "\n",
    "file = matopen(\"lamp.mat\") # open .mat file on Julia\n",
    "\n",
    "𝐀, I_des = read(file, \"illumCoeff\", \"desiredillum\") # matrix of the coefficients aⱼₖ\n",
    "p = Variable() # uniform lamp power\n",
    "# I_des = Constant(I_des) # desired power\n",
    "\n",
    "𝐚 = vec(sum(𝐀, dims=1))\n",
    "f = maximum(abs(log((p/I_des)*𝐚))) # objective function\n",
    "problem = minimize(f, [p >= 0])\n",
    "\n",
    "solve!(problem, SCS.Optimizer)"
   ]
  }
 ],
 "metadata": {
  "kernelspec": {
   "display_name": "Julia 1.8.1",
   "language": "julia",
   "name": "julia-1.8"
  },
  "language_info": {
   "file_extension": ".jl",
   "mimetype": "application/julia",
   "name": "julia",
   "version": "1.8.1"
  }
 },
 "nbformat": 4,
 "nbformat_minor": 4
}
