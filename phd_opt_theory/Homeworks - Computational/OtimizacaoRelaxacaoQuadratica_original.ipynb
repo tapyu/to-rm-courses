{
 "cells": [
  {
   "attachments": {},
   "cell_type": "markdown",
   "id": "aae41d03-ec16-4171-8f38-6811b7c24764",
   "metadata": {},
   "source": [
    "# Programa de Pós-Graduação em Engenharia de Teleinformática\n",
    "# Otimização Não-linear de Sistemas\n",
    "# Prof. Tarcisio Ferreira Maciel, Dr.-Ing. (Professor: [maciel@ufc.br](mailto:maciel@ufc.br))\n",
    "---\n",
    "## Identificação do aluno\n",
    "\n",
    "Nome: Rubem Vasconcelos Pacelli\n",
    "\n",
    "Matrícula: 519024\n",
    "\n",
    "---"
   ]
  },
  {
   "cell_type": "markdown",
   "id": "46324da0-9a69-4b5a-9e3f-bb9dca41077e",
   "metadata": {},
   "source": [
    "A correlação espacial $ \\rho_{i,j} $ entre os canais $ \\mathbf{h}_i = \\begin{bmatrix} h_{i,1} & h_{i,2} & \\ldots & h_{i,N} \\end{bmatrix}$ e $ \\mathbf{h}_j = \\begin{bmatrix} h_{j,1} & h_{j,2} & \\ldots & h_{j,N} \\end{bmatrix}$, com $\\mathbf{h}_i, \\mathbf{h}_j \\in \\mathbb{C}^N $ do enlace direto de uma estação rádio base com $ N $ antenas para os terminais móveis $ i, j $ é dada por $ \\rho_{i,j} = \\dfrac{ \\vert \\mathbf{h}_i \\mathbf{h}^H_j \\vert}{ \\Vert \\mathbf{h}_i \\Vert_2 \\Vert \\mathbf{h}_j \\Vert_2 } $. Sabendo que existem $ K $ terminais móveis, selecione $ G \\leq N $ terminais móveis tal que a soma das correlações entre eles dois-a-dois seja mínima, ou seja, selecione os $ G $ terminais móveis com os canais menos correlacionados. Esse problema pode ser formulado como segue: %\n",
    "$$\n",
    "\\begin{align}\n",
    "    \\mathbf{x}^\\star = \\underset{ \\mathbf{x} }{ \\text{minimize} } \\quad & \\frac{1}{2}\\mathbf{x}^T \\mathbf{R} \\mathbf{x}, \\\\\n",
    "    \\text{sujeito a} \\quad & \\boldsymbol{1}^T\\mathbf{x} = G, \\\\\n",
    "    & \\mathbf{x} \\in \\mathbb{B}^K,\n",
    "\\end{align}\n",
    "$$\n",
    "onde $ \\mathbf{R} = {[\\rho_{i,j}]}_{i,j}, \\quad i, j \\in  \\{1, 2, \\ldots, K\\} $. Este problema é um **problema de otimização binário quadrático**: função custo quadrática com variáveis de otimização binárias.\n",
    "\n",
    "O problema acima pode ser simplificado se as variáveis em $\\mathbf{x}$ forem relaxadas gerando $ \\tilde{\\mathbf{x}} \\in \\mathbb{R}^N $ e $\\boldsymbol{0} \\leq \\tilde{\\mathbf{x}} \\leq \\boldsymbol{1} $. Mesmo assim, o problema acima pode ainda será NP-difícil se a matriz $ \\mathbf{R} \\not \\succcurlyeq \\boldsymbol{0} $, i.e., se a matriz $ \\mathbf{R} $ não for positiva semidefinida.\n",
    "\n",
    "De acordo com a construção acima, sabe-se que $ \\mathbf{R} $ não é necessariamente positiva semidefinida. Isso pode ser demonstrado gerando-se várias instâncias dessa matriz a partir de canais para $K$ usuários e mostrando a distribuição de seus autovalores. Será possível observar que para algumas instâncias, haverá a ocorrência de autovalores negativos."
   ]
  },
  {
   "cell_type": "code",
   "execution_count": null,
   "id": "670f3102-f4d2-4456-b624-e93db43ed339",
   "metadata": {},
   "outputs": [],
   "source": [
    "# Importa a biblioteca numpy\n",
    "import numpy as np\n",
    "# Configura o número de casas decimais impressas para arrarys numpy\n",
    "np.set_printoptions(precision=3)\n",
    "\n",
    "# Número de usuários\n",
    "K = 16\n",
    "# Número de antenas na ERB\n",
    "N = 8\n",
    "# Numero de usuários no grupo\n",
    "G = 5\n",
    "# Gera os canais Rayleigh 1 x N descorrelacionados para os K usuários criando-se a matriz H com todos os canais destes usuários empilhados, um por linha\n",
    "H = np.random.randn(K, N)*np.sqrt(0.5) + 1j*np.random.randn(K, N)*np.sqrt(0.5)\n",
    "\n",
    "# Gera um simples exemplo de que a matriz R não é positiva semidefinida\n",
    "R = np.abs(H @ np.transpose(np.conjugate(H)))\n",
    "D = np.linalg.inv(np.diag(np.sqrt(np.diag(R))))\n",
    "R = D @ R @ D\n",
    "print('Mínimo autovalor de R:', np.min(np.linalg.eigvals(R)))"
   ]
  },
  {
   "cell_type": "markdown",
   "id": "30614b84-a5b7-48b4-875f-d81be1154f57",
   "metadata": {},
   "source": [
    "Com base no código acima, **gere e plote a distribuição do menor autovalor $\\lambda_{min}$ da matriz $\\mathbf{R}$ para o cenário configurado acima.**\n",
    "\n",
    "Uma forma de convexificar o problema apresentado é regularizar a matriz $\\mathbf{R}$ gerando uma matriz $\\tilde{\\mathbf{R}}$ positiva semidefinida. Naturalmente, o problema assim gerado é apenas uma aproximação para o problema original, ou seja, teríamos\n",
    "$$\n",
    "\\begin{align}\n",
    "    \\tilde{\\mathbf{x}}^\\star = \\underset{ \\tilde{\\mathbf{x}} }{ \\text{minimize} } \\quad & \\frac{1}{2}\\tilde{\\mathbf{x}}^T \\tilde{\\mathbf{R}} \\tilde{\\mathbf{x}}, \\\\\n",
    "    \\text{sujeito a} \\quad & \\boldsymbol{1}^T\\tilde{\\mathbf{x}} = G, \\\\\n",
    "    & \\boldsymbol{0} \\leq \\tilde{\\mathbf{x}} \\leq \\boldsymbol{1}.\n",
    "\\end{align}\n",
    "$$\n",
    "\n",
    "Considerando o problema relaxado e convexificado acima, podemos obter uma solução aproximada para o problema original arrendondando para 1 as $G$ maiores componentes de $\\tilde{\\mathbf{x}}$.\n",
    "\n",
    "Com base nisso, **convexifique o problema original utilizando uma regularização adequada para $\\mathbf{R}$ e solucione o problema original através do problema aproximado.**\n",
    "\n",
    "**Compare a capacidade de canal do grupo de $G$ usuários assim selecionado contra a capacidade de canal do grupo de $G$ de usuários ótimo**. Em ambos os casos, considere a aplicação de **formatação de feixes com forçagem a zero (ZF).** O grupo ótimo pode ser determinado por busca exaustiva entre todas as combinações de $K$ usuários $G$-a-$G$.\n",
    "\n",
    "**Varia o tamanho $G$ do grupo de 1 a N e avalie a capacidade ótima (busca exaustiva) e a capacidade subótima (convexificação do problema).**\n",
    "\n",
    "**Para todas as análises, utilize simulações de Monte-Carlo com no mínimo 1000 realizações.**"
   ]
  },
  {
   "cell_type": "markdown",
   "id": "ae3d3a3e-1772-492a-a7a7-bb4fa574604b",
   "metadata": {},
   "source": [
    "# Referências\n",
    "\n",
    "[1] A convex quadratic SDMA grouping algorithm based on spatial correlation. In: IEEE International Conference on Communications, 2007, Glasgow. Proc. of the IEEE International Conference on Communications, 2007. v. 1. p. 5342-5346. [https://doi.org/10.1109/ICC.2007.884](https://doi.org/10.1109/ICC.2007.884)"
   ]
  }
 ],
 "metadata": {
  "kernelspec": {
   "display_name": "Python 3 (ipykernel)",
   "language": "python",
   "name": "python3"
  },
  "language_info": {
   "codemirror_mode": {
    "name": "ipython",
    "version": 3
   },
   "file_extension": ".py",
   "mimetype": "text/x-python",
   "name": "python",
   "nbconvert_exporter": "python",
   "pygments_lexer": "ipython3",
   "version": "3.10.8"
  }
 },
 "nbformat": 4,
 "nbformat_minor": 5
}
